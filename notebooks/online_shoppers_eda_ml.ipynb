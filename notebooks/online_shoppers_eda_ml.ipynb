{
  "cells": [
    {
      "cell_type": "code",
      "execution_count": null,
      "metadata": {
        "colab": {
          "base_uri": "https://localhost:8080/"
        },
        "collapsed": true,
        "id": "S_GYfBJPADS6",
        "outputId": "0418b1ce-580d-4165-8feb-0b077f777a5c"
      },
      "outputs": [],
      "source": [
        "%pip install jupyter_contrib_nbextensions"
      ]
    },
    {
      "cell_type": "code",
      "execution_count": null,
      "metadata": {},
      "outputs": [],
      "source": [
        "%pip install explainerdashboard -q"
      ]
    },
    {
      "cell_type": "code",
      "execution_count": null,
      "metadata": {},
      "outputs": [],
      "source": [
        "%pip install ipywidgets"
      ]
    },
    {
      "cell_type": "code",
      "execution_count": 178,
      "metadata": {
        "colab": {
          "base_uri": "https://localhost:8080/"
        },
        "id": "r-EHdv4yfkSI",
        "outputId": "deb203dd-6242-42e5-94f8-2f9150a3e1b0"
      },
      "outputs": [],
      "source": [
        "import numpy as np\n",
        "import pandas as pd\n",
        "import matplotlib.pyplot as plt\n",
        "import seaborn as sns\n",
        "\n",
        "from sklearn.preprocessing import OneHotEncoder, MinMaxScaler\n",
        "from sklearn.compose import ColumnTransformer\n",
        "from sklearn.pipeline import Pipeline\n",
        "from sklearn.neighbors import KNeighborsClassifier\n",
        "from sklearn.ensemble import RandomForestClassifier\n",
        "from sklearn.metrics import accuracy_score, confusion_matrix\n",
        "from sklearn.model_selection import train_test_split, GridSearchCV\n",
        "\n",
        "from explainerdashboard import ClassifierExplainer, ExplainerDashboard\n",
        "\n",
        "from IPython.core.interactiveshell import InteractiveShell\n",
        "InteractiveShell.ast_node_interactivity = \"all\"\n"
      ]
    },
    {
      "cell_type": "code",
      "execution_count": 179,
      "metadata": {
        "id": "HujKwZSPwKGi"
      },
      "outputs": [],
      "source": [
        "RANDOM_STATE = 12345\n",
        "TEST_SIZE = 0.20"
      ]
    },
    {
      "cell_type": "markdown",
      "metadata": {
        "id": "n9kXYyALvXCQ"
      },
      "source": [
        "- Цель: предсказать возможность покупки (выявить максимально влияющие признаки), задача классификации.\n",
        "- рассмотрим две модели: KNeighborsClassifier() и RandomForestClassifier()\n",
        "- в качестве метрик используем accuracy - число верно угаданных меток и confusion_matrix - соотношение угаданных и неугаданных классов"
      ]
    },
    {
      "cell_type": "code",
      "execution_count": 180,
      "metadata": {
        "id": "FCuctvTizFa8"
      },
      "outputs": [],
      "source": [
        "#загрузим предварительно подготовленные данные\n",
        "df = pd.read_csv(r'E:\\ВШЭ_буткемпы\\eda_online_shopers\\GIT\\eda_and_dev_tools\\row\\online_shoppers_intention_eda.csv')"
      ]
    },
    {
      "cell_type": "code",
      "execution_count": 181,
      "metadata": {
        "colab": {
          "base_uri": "https://localhost:8080/",
          "height": 270
        },
        "id": "Gusahwf3zPIl",
        "outputId": "f7eaf335-9f8e-41a8-ab51-c439abbfb8a3"
      },
      "outputs": [
        {
          "data": {
            "text/html": [
              "<div>\n",
              "<style scoped>\n",
              "    .dataframe tbody tr th:only-of-type {\n",
              "        vertical-align: middle;\n",
              "    }\n",
              "\n",
              "    .dataframe tbody tr th {\n",
              "        vertical-align: top;\n",
              "    }\n",
              "\n",
              "    .dataframe thead th {\n",
              "        text-align: right;\n",
              "    }\n",
              "</style>\n",
              "<table border=\"1\" class=\"dataframe\">\n",
              "  <thead>\n",
              "    <tr style=\"text-align: right;\">\n",
              "      <th></th>\n",
              "      <th>Administrative</th>\n",
              "      <th>Administrative_Duration</th>\n",
              "      <th>Informational</th>\n",
              "      <th>Informational_Duration</th>\n",
              "      <th>ProductRelated</th>\n",
              "      <th>ProductRelated_Duration</th>\n",
              "      <th>BounceRates</th>\n",
              "      <th>ExitRates</th>\n",
              "      <th>PageValues</th>\n",
              "      <th>SpecialDay</th>\n",
              "      <th>Month</th>\n",
              "      <th>OperatingSystems</th>\n",
              "      <th>Browser</th>\n",
              "      <th>Region</th>\n",
              "      <th>TrafficType</th>\n",
              "      <th>VisitorType</th>\n",
              "      <th>Weekend</th>\n",
              "      <th>Revenue</th>\n",
              "    </tr>\n",
              "  </thead>\n",
              "  <tbody>\n",
              "    <tr>\n",
              "      <th>0</th>\n",
              "      <td>0</td>\n",
              "      <td>0.0</td>\n",
              "      <td>0</td>\n",
              "      <td>0.0</td>\n",
              "      <td>1</td>\n",
              "      <td>0.000000</td>\n",
              "      <td>0.20</td>\n",
              "      <td>0.20</td>\n",
              "      <td>0.0</td>\n",
              "      <td>0.0</td>\n",
              "      <td>Feb</td>\n",
              "      <td>1</td>\n",
              "      <td>1</td>\n",
              "      <td>1</td>\n",
              "      <td>1</td>\n",
              "      <td>Returning_Visitor</td>\n",
              "      <td>False</td>\n",
              "      <td>0</td>\n",
              "    </tr>\n",
              "    <tr>\n",
              "      <th>1</th>\n",
              "      <td>0</td>\n",
              "      <td>0.0</td>\n",
              "      <td>0</td>\n",
              "      <td>0.0</td>\n",
              "      <td>2</td>\n",
              "      <td>64.000000</td>\n",
              "      <td>0.00</td>\n",
              "      <td>0.10</td>\n",
              "      <td>0.0</td>\n",
              "      <td>0.0</td>\n",
              "      <td>Feb</td>\n",
              "      <td>2</td>\n",
              "      <td>2</td>\n",
              "      <td>1</td>\n",
              "      <td>2</td>\n",
              "      <td>Returning_Visitor</td>\n",
              "      <td>False</td>\n",
              "      <td>0</td>\n",
              "    </tr>\n",
              "    <tr>\n",
              "      <th>2</th>\n",
              "      <td>0</td>\n",
              "      <td>0.0</td>\n",
              "      <td>0</td>\n",
              "      <td>0.0</td>\n",
              "      <td>1</td>\n",
              "      <td>0.000000</td>\n",
              "      <td>0.20</td>\n",
              "      <td>0.20</td>\n",
              "      <td>0.0</td>\n",
              "      <td>0.0</td>\n",
              "      <td>Feb</td>\n",
              "      <td>4</td>\n",
              "      <td>1</td>\n",
              "      <td>9</td>\n",
              "      <td>3</td>\n",
              "      <td>Returning_Visitor</td>\n",
              "      <td>False</td>\n",
              "      <td>0</td>\n",
              "    </tr>\n",
              "    <tr>\n",
              "      <th>3</th>\n",
              "      <td>0</td>\n",
              "      <td>0.0</td>\n",
              "      <td>0</td>\n",
              "      <td>0.0</td>\n",
              "      <td>2</td>\n",
              "      <td>2.666667</td>\n",
              "      <td>0.05</td>\n",
              "      <td>0.14</td>\n",
              "      <td>0.0</td>\n",
              "      <td>0.0</td>\n",
              "      <td>Feb</td>\n",
              "      <td>3</td>\n",
              "      <td>2</td>\n",
              "      <td>2</td>\n",
              "      <td>4</td>\n",
              "      <td>Returning_Visitor</td>\n",
              "      <td>False</td>\n",
              "      <td>0</td>\n",
              "    </tr>\n",
              "    <tr>\n",
              "      <th>4</th>\n",
              "      <td>0</td>\n",
              "      <td>0.0</td>\n",
              "      <td>0</td>\n",
              "      <td>0.0</td>\n",
              "      <td>10</td>\n",
              "      <td>627.500000</td>\n",
              "      <td>0.02</td>\n",
              "      <td>0.05</td>\n",
              "      <td>0.0</td>\n",
              "      <td>0.0</td>\n",
              "      <td>Feb</td>\n",
              "      <td>3</td>\n",
              "      <td>3</td>\n",
              "      <td>1</td>\n",
              "      <td>4</td>\n",
              "      <td>Returning_Visitor</td>\n",
              "      <td>True</td>\n",
              "      <td>0</td>\n",
              "    </tr>\n",
              "  </tbody>\n",
              "</table>\n",
              "</div>"
            ],
            "text/plain": [
              "   Administrative  Administrative_Duration  Informational  \\\n",
              "0               0                      0.0              0   \n",
              "1               0                      0.0              0   \n",
              "2               0                      0.0              0   \n",
              "3               0                      0.0              0   \n",
              "4               0                      0.0              0   \n",
              "\n",
              "   Informational_Duration  ProductRelated  ProductRelated_Duration  \\\n",
              "0                     0.0               1                 0.000000   \n",
              "1                     0.0               2                64.000000   \n",
              "2                     0.0               1                 0.000000   \n",
              "3                     0.0               2                 2.666667   \n",
              "4                     0.0              10               627.500000   \n",
              "\n",
              "   BounceRates  ExitRates  PageValues  SpecialDay Month  OperatingSystems  \\\n",
              "0         0.20       0.20         0.0         0.0   Feb                 1   \n",
              "1         0.00       0.10         0.0         0.0   Feb                 2   \n",
              "2         0.20       0.20         0.0         0.0   Feb                 4   \n",
              "3         0.05       0.14         0.0         0.0   Feb                 3   \n",
              "4         0.02       0.05         0.0         0.0   Feb                 3   \n",
              "\n",
              "   Browser  Region  TrafficType        VisitorType  Weekend  Revenue  \n",
              "0        1       1            1  Returning_Visitor    False        0  \n",
              "1        2       1            2  Returning_Visitor    False        0  \n",
              "2        1       9            3  Returning_Visitor    False        0  \n",
              "3        2       2            4  Returning_Visitor    False        0  \n",
              "4        3       1            4  Returning_Visitor     True        0  "
            ]
          },
          "execution_count": 181,
          "metadata": {},
          "output_type": "execute_result"
        }
      ],
      "source": [
        "df.head()"
      ]
    },
    {
      "cell_type": "code",
      "execution_count": 182,
      "metadata": {
        "colab": {
          "base_uri": "https://localhost:8080/"
        },
        "id": "2jtpeJ4mep7a",
        "outputId": "64be813e-de38-42d6-a6fb-de10ce8e901d"
      },
      "outputs": [
        {
          "name": "stdout",
          "output_type": "stream",
          "text": [
            "<class 'pandas.core.frame.DataFrame'>\n",
            "RangeIndex: 12330 entries, 0 to 12329\n",
            "Data columns (total 18 columns):\n",
            " #   Column                   Non-Null Count  Dtype  \n",
            "---  ------                   --------------  -----  \n",
            " 0   Administrative           12330 non-null  int64  \n",
            " 1   Administrative_Duration  12330 non-null  float64\n",
            " 2   Informational            12330 non-null  int64  \n",
            " 3   Informational_Duration   12330 non-null  float64\n",
            " 4   ProductRelated           12330 non-null  int64  \n",
            " 5   ProductRelated_Duration  12330 non-null  float64\n",
            " 6   BounceRates              12330 non-null  float64\n",
            " 7   ExitRates                12330 non-null  float64\n",
            " 8   PageValues               12330 non-null  float64\n",
            " 9   SpecialDay               12330 non-null  float64\n",
            " 10  Month                    12330 non-null  object \n",
            " 11  OperatingSystems         12330 non-null  int64  \n",
            " 12  Browser                  12330 non-null  int64  \n",
            " 13  Region                   12330 non-null  int64  \n",
            " 14  TrafficType              12330 non-null  int64  \n",
            " 15  VisitorType              12330 non-null  object \n",
            " 16  Weekend                  12330 non-null  bool   \n",
            " 17  Revenue                  12330 non-null  int64  \n",
            "dtypes: bool(1), float64(7), int64(8), object(2)\n",
            "memory usage: 1.6+ MB\n"
          ]
        }
      ],
      "source": [
        "df.info()"
      ]
    },
    {
      "cell_type": "code",
      "execution_count": 183,
      "metadata": {
        "colab": {
          "base_uri": "https://localhost:8080/",
          "height": 364
        },
        "id": "GgLjSwWfesSf",
        "outputId": "f47d9988-ac61-4b44-fbd2-d3651e839d53"
      },
      "outputs": [
        {
          "data": {
            "text/html": [
              "<div>\n",
              "<style scoped>\n",
              "    .dataframe tbody tr th:only-of-type {\n",
              "        vertical-align: middle;\n",
              "    }\n",
              "\n",
              "    .dataframe tbody tr th {\n",
              "        vertical-align: top;\n",
              "    }\n",
              "\n",
              "    .dataframe thead th {\n",
              "        text-align: right;\n",
              "    }\n",
              "</style>\n",
              "<table border=\"1\" class=\"dataframe\">\n",
              "  <thead>\n",
              "    <tr style=\"text-align: right;\">\n",
              "      <th></th>\n",
              "      <th>Administrative</th>\n",
              "      <th>Administrative_Duration</th>\n",
              "      <th>Informational</th>\n",
              "      <th>Informational_Duration</th>\n",
              "      <th>ProductRelated</th>\n",
              "      <th>ProductRelated_Duration</th>\n",
              "      <th>BounceRates</th>\n",
              "      <th>ExitRates</th>\n",
              "      <th>PageValues</th>\n",
              "      <th>SpecialDay</th>\n",
              "      <th>OperatingSystems</th>\n",
              "      <th>Browser</th>\n",
              "      <th>Region</th>\n",
              "      <th>TrafficType</th>\n",
              "      <th>Revenue</th>\n",
              "    </tr>\n",
              "  </thead>\n",
              "  <tbody>\n",
              "    <tr>\n",
              "      <th>count</th>\n",
              "      <td>12330.000000</td>\n",
              "      <td>12330.000000</td>\n",
              "      <td>12330.000000</td>\n",
              "      <td>12330.000000</td>\n",
              "      <td>12330.000000</td>\n",
              "      <td>12330.000000</td>\n",
              "      <td>12330.000000</td>\n",
              "      <td>12330.000000</td>\n",
              "      <td>12330.000000</td>\n",
              "      <td>12330.000000</td>\n",
              "      <td>12330.000000</td>\n",
              "      <td>12330.000000</td>\n",
              "      <td>12330.000000</td>\n",
              "      <td>12330.000000</td>\n",
              "      <td>12330.000000</td>\n",
              "    </tr>\n",
              "    <tr>\n",
              "      <th>mean</th>\n",
              "      <td>2.315166</td>\n",
              "      <td>80.818611</td>\n",
              "      <td>0.503569</td>\n",
              "      <td>34.164066</td>\n",
              "      <td>31.731468</td>\n",
              "      <td>1166.924308</td>\n",
              "      <td>0.022191</td>\n",
              "      <td>0.042877</td>\n",
              "      <td>5.889258</td>\n",
              "      <td>0.061427</td>\n",
              "      <td>2.124006</td>\n",
              "      <td>2.357097</td>\n",
              "      <td>3.147364</td>\n",
              "      <td>4.069586</td>\n",
              "      <td>0.154745</td>\n",
              "    </tr>\n",
              "    <tr>\n",
              "      <th>std</th>\n",
              "      <td>3.321784</td>\n",
              "      <td>176.779107</td>\n",
              "      <td>1.270156</td>\n",
              "      <td>140.575938</td>\n",
              "      <td>44.475503</td>\n",
              "      <td>1873.650562</td>\n",
              "      <td>0.048488</td>\n",
              "      <td>0.048393</td>\n",
              "      <td>18.568437</td>\n",
              "      <td>0.198917</td>\n",
              "      <td>0.911325</td>\n",
              "      <td>1.717277</td>\n",
              "      <td>2.401591</td>\n",
              "      <td>4.025169</td>\n",
              "      <td>0.361676</td>\n",
              "    </tr>\n",
              "    <tr>\n",
              "      <th>min</th>\n",
              "      <td>0.000000</td>\n",
              "      <td>0.000000</td>\n",
              "      <td>0.000000</td>\n",
              "      <td>0.000000</td>\n",
              "      <td>0.000000</td>\n",
              "      <td>0.000000</td>\n",
              "      <td>0.000000</td>\n",
              "      <td>0.000000</td>\n",
              "      <td>0.000000</td>\n",
              "      <td>0.000000</td>\n",
              "      <td>1.000000</td>\n",
              "      <td>1.000000</td>\n",
              "      <td>1.000000</td>\n",
              "      <td>1.000000</td>\n",
              "      <td>0.000000</td>\n",
              "    </tr>\n",
              "    <tr>\n",
              "      <th>25%</th>\n",
              "      <td>0.000000</td>\n",
              "      <td>0.000000</td>\n",
              "      <td>0.000000</td>\n",
              "      <td>0.000000</td>\n",
              "      <td>7.000000</td>\n",
              "      <td>196.500000</td>\n",
              "      <td>0.000000</td>\n",
              "      <td>0.014286</td>\n",
              "      <td>0.000000</td>\n",
              "      <td>0.000000</td>\n",
              "      <td>2.000000</td>\n",
              "      <td>2.000000</td>\n",
              "      <td>1.000000</td>\n",
              "      <td>2.000000</td>\n",
              "      <td>0.000000</td>\n",
              "    </tr>\n",
              "    <tr>\n",
              "      <th>50%</th>\n",
              "      <td>1.000000</td>\n",
              "      <td>7.500000</td>\n",
              "      <td>0.000000</td>\n",
              "      <td>0.000000</td>\n",
              "      <td>18.000000</td>\n",
              "      <td>597.625000</td>\n",
              "      <td>0.003112</td>\n",
              "      <td>0.025141</td>\n",
              "      <td>0.000000</td>\n",
              "      <td>0.000000</td>\n",
              "      <td>2.000000</td>\n",
              "      <td>2.000000</td>\n",
              "      <td>3.000000</td>\n",
              "      <td>2.000000</td>\n",
              "      <td>0.000000</td>\n",
              "    </tr>\n",
              "    <tr>\n",
              "      <th>75%</th>\n",
              "      <td>4.000000</td>\n",
              "      <td>93.256250</td>\n",
              "      <td>0.000000</td>\n",
              "      <td>0.000000</td>\n",
              "      <td>38.000000</td>\n",
              "      <td>1406.182143</td>\n",
              "      <td>0.016813</td>\n",
              "      <td>0.050000</td>\n",
              "      <td>0.000000</td>\n",
              "      <td>0.000000</td>\n",
              "      <td>3.000000</td>\n",
              "      <td>2.000000</td>\n",
              "      <td>4.000000</td>\n",
              "      <td>4.000000</td>\n",
              "      <td>0.000000</td>\n",
              "    </tr>\n",
              "    <tr>\n",
              "      <th>max</th>\n",
              "      <td>27.000000</td>\n",
              "      <td>3398.750000</td>\n",
              "      <td>24.000000</td>\n",
              "      <td>2549.375000</td>\n",
              "      <td>705.000000</td>\n",
              "      <td>63973.522230</td>\n",
              "      <td>0.200000</td>\n",
              "      <td>0.200000</td>\n",
              "      <td>361.763742</td>\n",
              "      <td>1.000000</td>\n",
              "      <td>8.000000</td>\n",
              "      <td>13.000000</td>\n",
              "      <td>9.000000</td>\n",
              "      <td>20.000000</td>\n",
              "      <td>1.000000</td>\n",
              "    </tr>\n",
              "  </tbody>\n",
              "</table>\n",
              "</div>"
            ],
            "text/plain": [
              "       Administrative  Administrative_Duration  Informational  \\\n",
              "count    12330.000000             12330.000000   12330.000000   \n",
              "mean         2.315166                80.818611       0.503569   \n",
              "std          3.321784               176.779107       1.270156   \n",
              "min          0.000000                 0.000000       0.000000   \n",
              "25%          0.000000                 0.000000       0.000000   \n",
              "50%          1.000000                 7.500000       0.000000   \n",
              "75%          4.000000                93.256250       0.000000   \n",
              "max         27.000000              3398.750000      24.000000   \n",
              "\n",
              "       Informational_Duration  ProductRelated  ProductRelated_Duration  \\\n",
              "count            12330.000000    12330.000000             12330.000000   \n",
              "mean                34.164066       31.731468              1166.924308   \n",
              "std                140.575938       44.475503              1873.650562   \n",
              "min                  0.000000        0.000000                 0.000000   \n",
              "25%                  0.000000        7.000000               196.500000   \n",
              "50%                  0.000000       18.000000               597.625000   \n",
              "75%                  0.000000       38.000000              1406.182143   \n",
              "max               2549.375000      705.000000             63973.522230   \n",
              "\n",
              "        BounceRates     ExitRates    PageValues    SpecialDay  \\\n",
              "count  12330.000000  12330.000000  12330.000000  12330.000000   \n",
              "mean       0.022191      0.042877      5.889258      0.061427   \n",
              "std        0.048488      0.048393     18.568437      0.198917   \n",
              "min        0.000000      0.000000      0.000000      0.000000   \n",
              "25%        0.000000      0.014286      0.000000      0.000000   \n",
              "50%        0.003112      0.025141      0.000000      0.000000   \n",
              "75%        0.016813      0.050000      0.000000      0.000000   \n",
              "max        0.200000      0.200000    361.763742      1.000000   \n",
              "\n",
              "       OperatingSystems       Browser        Region   TrafficType  \\\n",
              "count      12330.000000  12330.000000  12330.000000  12330.000000   \n",
              "mean           2.124006      2.357097      3.147364      4.069586   \n",
              "std            0.911325      1.717277      2.401591      4.025169   \n",
              "min            1.000000      1.000000      1.000000      1.000000   \n",
              "25%            2.000000      2.000000      1.000000      2.000000   \n",
              "50%            2.000000      2.000000      3.000000      2.000000   \n",
              "75%            3.000000      2.000000      4.000000      4.000000   \n",
              "max            8.000000     13.000000      9.000000     20.000000   \n",
              "\n",
              "            Revenue  \n",
              "count  12330.000000  \n",
              "mean       0.154745  \n",
              "std        0.361676  \n",
              "min        0.000000  \n",
              "25%        0.000000  \n",
              "50%        0.000000  \n",
              "75%        0.000000  \n",
              "max        1.000000  "
            ]
          },
          "execution_count": 183,
          "metadata": {},
          "output_type": "execute_result"
        }
      ],
      "source": [
        "df.describe()"
      ]
    },
    {
      "cell_type": "code",
      "execution_count": 184,
      "metadata": {},
      "outputs": [
        {
          "data": {
            "text/plain": [
              "Revenue\n",
              "0    10422\n",
              "1     1908\n",
              "Name: count, dtype: int64"
            ]
          },
          "execution_count": 184,
          "metadata": {},
          "output_type": "execute_result"
        }
      ],
      "source": [
        "df['Revenue'].value_counts()"
      ]
    },
    {
      "cell_type": "markdown",
      "metadata": {},
      "source": [
        "выборка несбалансирована(нулевого класса больше примерно в 5 раз чем единичного). возможно, балансировка улучшит метрики модели "
      ]
    },
    {
      "cell_type": "markdown",
      "metadata": {
        "id": "OZ40XWXPGvzL"
      },
      "source": [
        "# ML"
      ]
    },
    {
      "cell_type": "code",
      "execution_count": 11,
      "metadata": {
        "colab": {
          "base_uri": "https://localhost:8080/"
        },
        "id": "ASkIse_8ule3",
        "outputId": "363d0ab9-de55-4bd0-aa1f-f192fcf1d28d"
      },
      "outputs": [
        {
          "data": {
            "text/plain": [
              "Index(['Unnamed: 0', 'Administrative', 'Administrative_Duration',\n",
              "       'Informational', 'Informational_Duration', 'ProductRelated',\n",
              "       'ProductRelated_Duration', 'BounceRates', 'ExitRates', 'PageValues',\n",
              "       'SpecialDay', 'Month', 'OperatingSystems', 'Browser', 'Region',\n",
              "       'TrafficType', 'VisitorType', 'Weekend', 'Revenue'],\n",
              "      dtype='object')"
            ]
          },
          "execution_count": 11,
          "metadata": {},
          "output_type": "execute_result"
        }
      ],
      "source": [
        "df.columns"
      ]
    },
    {
      "cell_type": "markdown",
      "metadata": {
        "id": "-p4_nzBVs4ir"
      },
      "source": [
        "## Без учета категориальных признаков"
      ]
    },
    {
      "cell_type": "code",
      "execution_count": 185,
      "metadata": {
        "id": "ooLOzRxnukG0"
      },
      "outputs": [],
      "source": [
        "# разделим данные на целевую переменную и матрицу объект-признак\n",
        "y = df['Revenue'] # целевая переменная\n",
        "X = df[['Administrative_Duration','Informational_Duration','ProductRelated_Duration',\n",
        "                    'BounceRates', 'ExitRates', 'PageValues', 'SpecialDay',\n",
        "                    'OperatingSystems', 'Region', 'TrafficType'\n",
        "                    ]] # матрица объект-признак\n"
      ]
    },
    {
      "cell_type": "code",
      "execution_count": 186,
      "metadata": {},
      "outputs": [
        {
          "name": "stdout",
          "output_type": "stream",
          "text": [
            "X_train : (9864, 10) ; X_test : (2466, 10)\n",
            "Y_train : (9864,) ; Y_test : (2466,)\n"
          ]
        }
      ],
      "source": [
        "#разделим выборку на тренировочную и тестовую\n",
        "X_train, X_test, y_train, y_test = train_test_split(X, y, test_size=TEST_SIZE, random_state=RANDOM_STATE)\n",
        "\n",
        "print(\"X_train :\",X_train.shape, \"; X_test :\",X_test.shape )\n",
        "print(\"Y_train :\",y_train.shape, \"; Y_test :\",y_test.shape)\n"
      ]
    },
    {
      "cell_type": "code",
      "execution_count": 187,
      "metadata": {
        "colab": {
          "base_uri": "https://localhost:8080/"
        },
        "id": "Cf_8fY7x50_w",
        "outputId": "9a02d875-fd1f-4196-fa28-55bf13cec1fd"
      },
      "outputs": [
        {
          "name": "stdout",
          "output_type": "stream",
          "text": [
            "Fitting 3 folds for each of 56 candidates, totalling 168 fits\n"
          ]
        },
        {
          "data": {
            "text/html": [
              "<style>#sk-container-id-51 {color: black;}#sk-container-id-51 pre{padding: 0;}#sk-container-id-51 div.sk-toggleable {background-color: white;}#sk-container-id-51 label.sk-toggleable__label {cursor: pointer;display: block;width: 100%;margin-bottom: 0;padding: 0.3em;box-sizing: border-box;text-align: center;}#sk-container-id-51 label.sk-toggleable__label-arrow:before {content: \"▸\";float: left;margin-right: 0.25em;color: #696969;}#sk-container-id-51 label.sk-toggleable__label-arrow:hover:before {color: black;}#sk-container-id-51 div.sk-estimator:hover label.sk-toggleable__label-arrow:before {color: black;}#sk-container-id-51 div.sk-toggleable__content {max-height: 0;max-width: 0;overflow: hidden;text-align: left;background-color: #f0f8ff;}#sk-container-id-51 div.sk-toggleable__content pre {margin: 0.2em;color: black;border-radius: 0.25em;background-color: #f0f8ff;}#sk-container-id-51 input.sk-toggleable__control:checked~div.sk-toggleable__content {max-height: 200px;max-width: 100%;overflow: auto;}#sk-container-id-51 input.sk-toggleable__control:checked~label.sk-toggleable__label-arrow:before {content: \"▾\";}#sk-container-id-51 div.sk-estimator input.sk-toggleable__control:checked~label.sk-toggleable__label {background-color: #d4ebff;}#sk-container-id-51 div.sk-label input.sk-toggleable__control:checked~label.sk-toggleable__label {background-color: #d4ebff;}#sk-container-id-51 input.sk-hidden--visually {border: 0;clip: rect(1px 1px 1px 1px);clip: rect(1px, 1px, 1px, 1px);height: 1px;margin: -1px;overflow: hidden;padding: 0;position: absolute;width: 1px;}#sk-container-id-51 div.sk-estimator {font-family: monospace;background-color: #f0f8ff;border: 1px dotted black;border-radius: 0.25em;box-sizing: border-box;margin-bottom: 0.5em;}#sk-container-id-51 div.sk-estimator:hover {background-color: #d4ebff;}#sk-container-id-51 div.sk-parallel-item::after {content: \"\";width: 100%;border-bottom: 1px solid gray;flex-grow: 1;}#sk-container-id-51 div.sk-label:hover label.sk-toggleable__label {background-color: #d4ebff;}#sk-container-id-51 div.sk-serial::before {content: \"\";position: absolute;border-left: 1px solid gray;box-sizing: border-box;top: 0;bottom: 0;left: 50%;z-index: 0;}#sk-container-id-51 div.sk-serial {display: flex;flex-direction: column;align-items: center;background-color: white;padding-right: 0.2em;padding-left: 0.2em;position: relative;}#sk-container-id-51 div.sk-item {position: relative;z-index: 1;}#sk-container-id-51 div.sk-parallel {display: flex;align-items: stretch;justify-content: center;background-color: white;position: relative;}#sk-container-id-51 div.sk-item::before, #sk-container-id-51 div.sk-parallel-item::before {content: \"\";position: absolute;border-left: 1px solid gray;box-sizing: border-box;top: 0;bottom: 0;left: 50%;z-index: -1;}#sk-container-id-51 div.sk-parallel-item {display: flex;flex-direction: column;z-index: 1;position: relative;background-color: white;}#sk-container-id-51 div.sk-parallel-item:first-child::after {align-self: flex-end;width: 50%;}#sk-container-id-51 div.sk-parallel-item:last-child::after {align-self: flex-start;width: 50%;}#sk-container-id-51 div.sk-parallel-item:only-child::after {width: 0;}#sk-container-id-51 div.sk-dashed-wrapped {border: 1px dashed gray;margin: 0 0.4em 0.5em 0.4em;box-sizing: border-box;padding-bottom: 0.4em;background-color: white;}#sk-container-id-51 div.sk-label label {font-family: monospace;font-weight: bold;display: inline-block;line-height: 1.2em;}#sk-container-id-51 div.sk-label-container {text-align: center;}#sk-container-id-51 div.sk-container {/* jupyter's `normalize.less` sets `[hidden] { display: none; }` but bootstrap.min.css set `[hidden] { display: none !important; }` so we also need the `!important` here to be able to override the default hidden behavior on the sphinx rendered scikit-learn.org. See: https://github.com/scikit-learn/scikit-learn/issues/21755 */display: inline-block !important;position: relative;}#sk-container-id-51 div.sk-text-repr-fallback {display: none;}</style><div id=\"sk-container-id-51\" class=\"sk-top-container\"><div class=\"sk-text-repr-fallback\"><pre>GridSearchCV(cv=3, estimator=KNeighborsClassifier(), n_jobs=-1,\n",
              "             param_grid={&#x27;n_neighbors&#x27;: array([ 2,  4,  6,  8, 10, 12, 14, 16, 18, 20, 22, 24, 26, 28]),\n",
              "                         &#x27;p&#x27;: [1, 2], &#x27;weights&#x27;: [&#x27;uniform&#x27;, &#x27;distance&#x27;]},\n",
              "             scoring=&#x27;accuracy&#x27;, verbose=2)</pre><b>In a Jupyter environment, please rerun this cell to show the HTML representation or trust the notebook. <br />On GitHub, the HTML representation is unable to render, please try loading this page with nbviewer.org.</b></div><div class=\"sk-container\" hidden><div class=\"sk-item sk-dashed-wrapped\"><div class=\"sk-label-container\"><div class=\"sk-label sk-toggleable\"><input class=\"sk-toggleable__control sk-hidden--visually\" id=\"sk-estimator-id-183\" type=\"checkbox\" ><label for=\"sk-estimator-id-183\" class=\"sk-toggleable__label sk-toggleable__label-arrow\">GridSearchCV</label><div class=\"sk-toggleable__content\"><pre>GridSearchCV(cv=3, estimator=KNeighborsClassifier(), n_jobs=-1,\n",
              "             param_grid={&#x27;n_neighbors&#x27;: array([ 2,  4,  6,  8, 10, 12, 14, 16, 18, 20, 22, 24, 26, 28]),\n",
              "                         &#x27;p&#x27;: [1, 2], &#x27;weights&#x27;: [&#x27;uniform&#x27;, &#x27;distance&#x27;]},\n",
              "             scoring=&#x27;accuracy&#x27;, verbose=2)</pre></div></div></div><div class=\"sk-parallel\"><div class=\"sk-parallel-item\"><div class=\"sk-item\"><div class=\"sk-label-container\"><div class=\"sk-label sk-toggleable\"><input class=\"sk-toggleable__control sk-hidden--visually\" id=\"sk-estimator-id-184\" type=\"checkbox\" ><label for=\"sk-estimator-id-184\" class=\"sk-toggleable__label sk-toggleable__label-arrow\">estimator: KNeighborsClassifier</label><div class=\"sk-toggleable__content\"><pre>KNeighborsClassifier()</pre></div></div></div><div class=\"sk-serial\"><div class=\"sk-item\"><div class=\"sk-estimator sk-toggleable\"><input class=\"sk-toggleable__control sk-hidden--visually\" id=\"sk-estimator-id-185\" type=\"checkbox\" ><label for=\"sk-estimator-id-185\" class=\"sk-toggleable__label sk-toggleable__label-arrow\">KNeighborsClassifier</label><div class=\"sk-toggleable__content\"><pre>KNeighborsClassifier()</pre></div></div></div></div></div></div></div></div></div></div>"
            ],
            "text/plain": [
              "GridSearchCV(cv=3, estimator=KNeighborsClassifier(), n_jobs=-1,\n",
              "             param_grid={'n_neighbors': array([ 2,  4,  6,  8, 10, 12, 14, 16, 18, 20, 22, 24, 26, 28]),\n",
              "                         'p': [1, 2], 'weights': ['uniform', 'distance']},\n",
              "             scoring='accuracy', verbose=2)"
            ]
          },
          "execution_count": 187,
          "metadata": {},
          "output_type": "execute_result"
        },
        {
          "name": "stdout",
          "output_type": "stream",
          "text": [
            "best_score: 0.869\n",
            "best_params {'n_neighbors': 10, 'p': 2, 'weights': 'uniform'}\n",
            "best_score_test: 0.861\n",
            "confusion_matrix:\n",
            "[[2035   27]\n",
            " [ 316   88]]\n"
          ]
        }
      ],
      "source": [
        "#KNeighborsClassifier\n",
        "model = KNeighborsClassifier()\n",
        "\n",
        "params = {'n_neighbors' : np.arange(2, 30, 2),\n",
        "          'weights' : ['uniform', 'distance'],\n",
        "          'p' : [1, 2]}\n",
        "\n",
        "gs_knc = GridSearchCV(model, params, scoring='accuracy', cv=3, n_jobs=-1, verbose=2)\n",
        "gs_knc.fit(X_train, y_train)\n",
        "\n",
        "\n",
        "print('best_score:', gs_knc.best_score_.round(3))\n",
        "print('best_params', gs_knc.best_params_)\n",
        "\n",
        "pred = gs_knc.best_estimator_.predict(X_test) \n",
        "print('best_score_test:',accuracy_score(y_test, pred).round(3))\n",
        "print('confusion_matrix:')\n",
        "print(confusion_matrix(y_test, pred))"
      ]
    },
    {
      "cell_type": "code",
      "execution_count": 188,
      "metadata": {},
      "outputs": [
        {
          "name": "stdout",
          "output_type": "stream",
          "text": [
            "Fitting 3 folds for each of 48 candidates, totalling 144 fits\n"
          ]
        },
        {
          "data": {
            "text/html": [
              "<style>#sk-container-id-52 {color: black;}#sk-container-id-52 pre{padding: 0;}#sk-container-id-52 div.sk-toggleable {background-color: white;}#sk-container-id-52 label.sk-toggleable__label {cursor: pointer;display: block;width: 100%;margin-bottom: 0;padding: 0.3em;box-sizing: border-box;text-align: center;}#sk-container-id-52 label.sk-toggleable__label-arrow:before {content: \"▸\";float: left;margin-right: 0.25em;color: #696969;}#sk-container-id-52 label.sk-toggleable__label-arrow:hover:before {color: black;}#sk-container-id-52 div.sk-estimator:hover label.sk-toggleable__label-arrow:before {color: black;}#sk-container-id-52 div.sk-toggleable__content {max-height: 0;max-width: 0;overflow: hidden;text-align: left;background-color: #f0f8ff;}#sk-container-id-52 div.sk-toggleable__content pre {margin: 0.2em;color: black;border-radius: 0.25em;background-color: #f0f8ff;}#sk-container-id-52 input.sk-toggleable__control:checked~div.sk-toggleable__content {max-height: 200px;max-width: 100%;overflow: auto;}#sk-container-id-52 input.sk-toggleable__control:checked~label.sk-toggleable__label-arrow:before {content: \"▾\";}#sk-container-id-52 div.sk-estimator input.sk-toggleable__control:checked~label.sk-toggleable__label {background-color: #d4ebff;}#sk-container-id-52 div.sk-label input.sk-toggleable__control:checked~label.sk-toggleable__label {background-color: #d4ebff;}#sk-container-id-52 input.sk-hidden--visually {border: 0;clip: rect(1px 1px 1px 1px);clip: rect(1px, 1px, 1px, 1px);height: 1px;margin: -1px;overflow: hidden;padding: 0;position: absolute;width: 1px;}#sk-container-id-52 div.sk-estimator {font-family: monospace;background-color: #f0f8ff;border: 1px dotted black;border-radius: 0.25em;box-sizing: border-box;margin-bottom: 0.5em;}#sk-container-id-52 div.sk-estimator:hover {background-color: #d4ebff;}#sk-container-id-52 div.sk-parallel-item::after {content: \"\";width: 100%;border-bottom: 1px solid gray;flex-grow: 1;}#sk-container-id-52 div.sk-label:hover label.sk-toggleable__label {background-color: #d4ebff;}#sk-container-id-52 div.sk-serial::before {content: \"\";position: absolute;border-left: 1px solid gray;box-sizing: border-box;top: 0;bottom: 0;left: 50%;z-index: 0;}#sk-container-id-52 div.sk-serial {display: flex;flex-direction: column;align-items: center;background-color: white;padding-right: 0.2em;padding-left: 0.2em;position: relative;}#sk-container-id-52 div.sk-item {position: relative;z-index: 1;}#sk-container-id-52 div.sk-parallel {display: flex;align-items: stretch;justify-content: center;background-color: white;position: relative;}#sk-container-id-52 div.sk-item::before, #sk-container-id-52 div.sk-parallel-item::before {content: \"\";position: absolute;border-left: 1px solid gray;box-sizing: border-box;top: 0;bottom: 0;left: 50%;z-index: -1;}#sk-container-id-52 div.sk-parallel-item {display: flex;flex-direction: column;z-index: 1;position: relative;background-color: white;}#sk-container-id-52 div.sk-parallel-item:first-child::after {align-self: flex-end;width: 50%;}#sk-container-id-52 div.sk-parallel-item:last-child::after {align-self: flex-start;width: 50%;}#sk-container-id-52 div.sk-parallel-item:only-child::after {width: 0;}#sk-container-id-52 div.sk-dashed-wrapped {border: 1px dashed gray;margin: 0 0.4em 0.5em 0.4em;box-sizing: border-box;padding-bottom: 0.4em;background-color: white;}#sk-container-id-52 div.sk-label label {font-family: monospace;font-weight: bold;display: inline-block;line-height: 1.2em;}#sk-container-id-52 div.sk-label-container {text-align: center;}#sk-container-id-52 div.sk-container {/* jupyter's `normalize.less` sets `[hidden] { display: none; }` but bootstrap.min.css set `[hidden] { display: none !important; }` so we also need the `!important` here to be able to override the default hidden behavior on the sphinx rendered scikit-learn.org. See: https://github.com/scikit-learn/scikit-learn/issues/21755 */display: inline-block !important;position: relative;}#sk-container-id-52 div.sk-text-repr-fallback {display: none;}</style><div id=\"sk-container-id-52\" class=\"sk-top-container\"><div class=\"sk-text-repr-fallback\"><pre>GridSearchCV(cv=3, estimator=RandomForestClassifier(random_state=12345),\n",
              "             n_jobs=-1,\n",
              "             param_grid={&#x27;criterion&#x27;: [&#x27;gini&#x27;, &#x27;entropy&#x27;, &#x27;log_loss&#x27;],\n",
              "                         &#x27;max_depth&#x27;: array([2, 4, 6, 8]),\n",
              "                         &#x27;n_estimators&#x27;: array([100, 150, 200, 250])},\n",
              "             scoring=&#x27;accuracy&#x27;, verbose=2)</pre><b>In a Jupyter environment, please rerun this cell to show the HTML representation or trust the notebook. <br />On GitHub, the HTML representation is unable to render, please try loading this page with nbviewer.org.</b></div><div class=\"sk-container\" hidden><div class=\"sk-item sk-dashed-wrapped\"><div class=\"sk-label-container\"><div class=\"sk-label sk-toggleable\"><input class=\"sk-toggleable__control sk-hidden--visually\" id=\"sk-estimator-id-186\" type=\"checkbox\" ><label for=\"sk-estimator-id-186\" class=\"sk-toggleable__label sk-toggleable__label-arrow\">GridSearchCV</label><div class=\"sk-toggleable__content\"><pre>GridSearchCV(cv=3, estimator=RandomForestClassifier(random_state=12345),\n",
              "             n_jobs=-1,\n",
              "             param_grid={&#x27;criterion&#x27;: [&#x27;gini&#x27;, &#x27;entropy&#x27;, &#x27;log_loss&#x27;],\n",
              "                         &#x27;max_depth&#x27;: array([2, 4, 6, 8]),\n",
              "                         &#x27;n_estimators&#x27;: array([100, 150, 200, 250])},\n",
              "             scoring=&#x27;accuracy&#x27;, verbose=2)</pre></div></div></div><div class=\"sk-parallel\"><div class=\"sk-parallel-item\"><div class=\"sk-item\"><div class=\"sk-label-container\"><div class=\"sk-label sk-toggleable\"><input class=\"sk-toggleable__control sk-hidden--visually\" id=\"sk-estimator-id-187\" type=\"checkbox\" ><label for=\"sk-estimator-id-187\" class=\"sk-toggleable__label sk-toggleable__label-arrow\">estimator: RandomForestClassifier</label><div class=\"sk-toggleable__content\"><pre>RandomForestClassifier(random_state=12345)</pre></div></div></div><div class=\"sk-serial\"><div class=\"sk-item\"><div class=\"sk-estimator sk-toggleable\"><input class=\"sk-toggleable__control sk-hidden--visually\" id=\"sk-estimator-id-188\" type=\"checkbox\" ><label for=\"sk-estimator-id-188\" class=\"sk-toggleable__label sk-toggleable__label-arrow\">RandomForestClassifier</label><div class=\"sk-toggleable__content\"><pre>RandomForestClassifier(random_state=12345)</pre></div></div></div></div></div></div></div></div></div></div>"
            ],
            "text/plain": [
              "GridSearchCV(cv=3, estimator=RandomForestClassifier(random_state=12345),\n",
              "             n_jobs=-1,\n",
              "             param_grid={'criterion': ['gini', 'entropy', 'log_loss'],\n",
              "                         'max_depth': array([2, 4, 6, 8]),\n",
              "                         'n_estimators': array([100, 150, 200, 250])},\n",
              "             scoring='accuracy', verbose=2)"
            ]
          },
          "execution_count": 188,
          "metadata": {},
          "output_type": "execute_result"
        },
        {
          "name": "stdout",
          "output_type": "stream",
          "text": [
            "best_score: 0.896\n",
            "best_params {'criterion': 'gini', 'max_depth': 6, 'n_estimators': 100}\n",
            "best_score_test: 0.9\n",
            "confusion_matrix:\n",
            "[[1998   64]\n",
            " [ 182  222]]\n"
          ]
        }
      ],
      "source": [
        "#RandomForestClassifier\n",
        "model = RandomForestClassifier(random_state = RANDOM_STATE ) \n",
        "\n",
        "params = {'n_estimators' : np.arange(100, 300, 50),\n",
        "          'criterion' : ['gini', 'entropy', 'log_loss'],\n",
        "          'max_depth': np.arange(2, 10, 2)}\n",
        "\n",
        "gs_rfc = GridSearchCV(model, params, scoring='accuracy', cv=3, n_jobs=-1, verbose=2)\n",
        "gs_rfc.fit(X_train, y_train)\n",
        "\n",
        "\n",
        "print('best_score:', gs_rfc.best_score_.round(3))\n",
        "print('best_params', gs_rfc.best_params_)\n",
        "\n",
        "pred = gs_rfc.best_estimator_.predict(X_test) \n",
        "print('best_score_test:',accuracy_score(y_test, pred).round(3))\n",
        "print('confusion_matrix:')\n",
        "print(confusion_matrix(y_test, pred))"
      ]
    },
    {
      "cell_type": "code",
      "execution_count": 189,
      "metadata": {},
      "outputs": [
        {
          "name": "stdout",
          "output_type": "stream",
          "text": [
            "Fitting 3 folds for each of 48 candidates, totalling 144 fits\n"
          ]
        },
        {
          "data": {
            "text/html": [
              "<style>#sk-container-id-53 {color: black;}#sk-container-id-53 pre{padding: 0;}#sk-container-id-53 div.sk-toggleable {background-color: white;}#sk-container-id-53 label.sk-toggleable__label {cursor: pointer;display: block;width: 100%;margin-bottom: 0;padding: 0.3em;box-sizing: border-box;text-align: center;}#sk-container-id-53 label.sk-toggleable__label-arrow:before {content: \"▸\";float: left;margin-right: 0.25em;color: #696969;}#sk-container-id-53 label.sk-toggleable__label-arrow:hover:before {color: black;}#sk-container-id-53 div.sk-estimator:hover label.sk-toggleable__label-arrow:before {color: black;}#sk-container-id-53 div.sk-toggleable__content {max-height: 0;max-width: 0;overflow: hidden;text-align: left;background-color: #f0f8ff;}#sk-container-id-53 div.sk-toggleable__content pre {margin: 0.2em;color: black;border-radius: 0.25em;background-color: #f0f8ff;}#sk-container-id-53 input.sk-toggleable__control:checked~div.sk-toggleable__content {max-height: 200px;max-width: 100%;overflow: auto;}#sk-container-id-53 input.sk-toggleable__control:checked~label.sk-toggleable__label-arrow:before {content: \"▾\";}#sk-container-id-53 div.sk-estimator input.sk-toggleable__control:checked~label.sk-toggleable__label {background-color: #d4ebff;}#sk-container-id-53 div.sk-label input.sk-toggleable__control:checked~label.sk-toggleable__label {background-color: #d4ebff;}#sk-container-id-53 input.sk-hidden--visually {border: 0;clip: rect(1px 1px 1px 1px);clip: rect(1px, 1px, 1px, 1px);height: 1px;margin: -1px;overflow: hidden;padding: 0;position: absolute;width: 1px;}#sk-container-id-53 div.sk-estimator {font-family: monospace;background-color: #f0f8ff;border: 1px dotted black;border-radius: 0.25em;box-sizing: border-box;margin-bottom: 0.5em;}#sk-container-id-53 div.sk-estimator:hover {background-color: #d4ebff;}#sk-container-id-53 div.sk-parallel-item::after {content: \"\";width: 100%;border-bottom: 1px solid gray;flex-grow: 1;}#sk-container-id-53 div.sk-label:hover label.sk-toggleable__label {background-color: #d4ebff;}#sk-container-id-53 div.sk-serial::before {content: \"\";position: absolute;border-left: 1px solid gray;box-sizing: border-box;top: 0;bottom: 0;left: 50%;z-index: 0;}#sk-container-id-53 div.sk-serial {display: flex;flex-direction: column;align-items: center;background-color: white;padding-right: 0.2em;padding-left: 0.2em;position: relative;}#sk-container-id-53 div.sk-item {position: relative;z-index: 1;}#sk-container-id-53 div.sk-parallel {display: flex;align-items: stretch;justify-content: center;background-color: white;position: relative;}#sk-container-id-53 div.sk-item::before, #sk-container-id-53 div.sk-parallel-item::before {content: \"\";position: absolute;border-left: 1px solid gray;box-sizing: border-box;top: 0;bottom: 0;left: 50%;z-index: -1;}#sk-container-id-53 div.sk-parallel-item {display: flex;flex-direction: column;z-index: 1;position: relative;background-color: white;}#sk-container-id-53 div.sk-parallel-item:first-child::after {align-self: flex-end;width: 50%;}#sk-container-id-53 div.sk-parallel-item:last-child::after {align-self: flex-start;width: 50%;}#sk-container-id-53 div.sk-parallel-item:only-child::after {width: 0;}#sk-container-id-53 div.sk-dashed-wrapped {border: 1px dashed gray;margin: 0 0.4em 0.5em 0.4em;box-sizing: border-box;padding-bottom: 0.4em;background-color: white;}#sk-container-id-53 div.sk-label label {font-family: monospace;font-weight: bold;display: inline-block;line-height: 1.2em;}#sk-container-id-53 div.sk-label-container {text-align: center;}#sk-container-id-53 div.sk-container {/* jupyter's `normalize.less` sets `[hidden] { display: none; }` but bootstrap.min.css set `[hidden] { display: none !important; }` so we also need the `!important` here to be able to override the default hidden behavior on the sphinx rendered scikit-learn.org. See: https://github.com/scikit-learn/scikit-learn/issues/21755 */display: inline-block !important;position: relative;}#sk-container-id-53 div.sk-text-repr-fallback {display: none;}</style><div id=\"sk-container-id-53\" class=\"sk-top-container\"><div class=\"sk-text-repr-fallback\"><pre>GridSearchCV(cv=3,\n",
              "             estimator=RandomForestClassifier(class_weight={0: 0.2, 1: 1},\n",
              "                                              random_state=12345),\n",
              "             n_jobs=-1,\n",
              "             param_grid={&#x27;criterion&#x27;: [&#x27;gini&#x27;, &#x27;entropy&#x27;, &#x27;log_loss&#x27;],\n",
              "                         &#x27;max_depth&#x27;: array([2, 4, 6, 8]),\n",
              "                         &#x27;n_estimators&#x27;: array([100, 150, 200, 250])},\n",
              "             scoring=&#x27;accuracy&#x27;, verbose=2)</pre><b>In a Jupyter environment, please rerun this cell to show the HTML representation or trust the notebook. <br />On GitHub, the HTML representation is unable to render, please try loading this page with nbviewer.org.</b></div><div class=\"sk-container\" hidden><div class=\"sk-item sk-dashed-wrapped\"><div class=\"sk-label-container\"><div class=\"sk-label sk-toggleable\"><input class=\"sk-toggleable__control sk-hidden--visually\" id=\"sk-estimator-id-189\" type=\"checkbox\" ><label for=\"sk-estimator-id-189\" class=\"sk-toggleable__label sk-toggleable__label-arrow\">GridSearchCV</label><div class=\"sk-toggleable__content\"><pre>GridSearchCV(cv=3,\n",
              "             estimator=RandomForestClassifier(class_weight={0: 0.2, 1: 1},\n",
              "                                              random_state=12345),\n",
              "             n_jobs=-1,\n",
              "             param_grid={&#x27;criterion&#x27;: [&#x27;gini&#x27;, &#x27;entropy&#x27;, &#x27;log_loss&#x27;],\n",
              "                         &#x27;max_depth&#x27;: array([2, 4, 6, 8]),\n",
              "                         &#x27;n_estimators&#x27;: array([100, 150, 200, 250])},\n",
              "             scoring=&#x27;accuracy&#x27;, verbose=2)</pre></div></div></div><div class=\"sk-parallel\"><div class=\"sk-parallel-item\"><div class=\"sk-item\"><div class=\"sk-label-container\"><div class=\"sk-label sk-toggleable\"><input class=\"sk-toggleable__control sk-hidden--visually\" id=\"sk-estimator-id-190\" type=\"checkbox\" ><label for=\"sk-estimator-id-190\" class=\"sk-toggleable__label sk-toggleable__label-arrow\">estimator: RandomForestClassifier</label><div class=\"sk-toggleable__content\"><pre>RandomForestClassifier(class_weight={0: 0.2, 1: 1}, random_state=12345)</pre></div></div></div><div class=\"sk-serial\"><div class=\"sk-item\"><div class=\"sk-estimator sk-toggleable\"><input class=\"sk-toggleable__control sk-hidden--visually\" id=\"sk-estimator-id-191\" type=\"checkbox\" ><label for=\"sk-estimator-id-191\" class=\"sk-toggleable__label sk-toggleable__label-arrow\">RandomForestClassifier</label><div class=\"sk-toggleable__content\"><pre>RandomForestClassifier(class_weight={0: 0.2, 1: 1}, random_state=12345)</pre></div></div></div></div></div></div></div></div></div></div>"
            ],
            "text/plain": [
              "GridSearchCV(cv=3,\n",
              "             estimator=RandomForestClassifier(class_weight={0: 0.2, 1: 1},\n",
              "                                              random_state=12345),\n",
              "             n_jobs=-1,\n",
              "             param_grid={'criterion': ['gini', 'entropy', 'log_loss'],\n",
              "                         'max_depth': array([2, 4, 6, 8]),\n",
              "                         'n_estimators': array([100, 150, 200, 250])},\n",
              "             scoring='accuracy', verbose=2)"
            ]
          },
          "execution_count": 189,
          "metadata": {},
          "output_type": "execute_result"
        },
        {
          "name": "stdout",
          "output_type": "stream",
          "text": [
            "best_score: 0.879\n",
            "best_params {'criterion': 'gini', 'max_depth': 8, 'n_estimators': 100}\n",
            "best_score_test: 0.891\n",
            "confusion_matrix:\n",
            "[[1867  195]\n",
            " [  74  330]]\n"
          ]
        }
      ],
      "source": [
        "#RandomForestClassifier, добавим балансировку классов\n",
        "model = RandomForestClassifier(random_state = RANDOM_STATE, class_weight = {0: 0.2, 1: 1} )\n",
        "\n",
        "params = {'n_estimators' : np.arange(100, 300, 50),\n",
        "          'criterion' : ['gini', 'entropy', 'log_loss'],\n",
        "          'max_depth': np.arange(2, 10, 2)}\n",
        "\n",
        "gs_rfc = GridSearchCV(model, params, scoring='accuracy', cv=3, n_jobs=-1, verbose=2)\n",
        "gs_rfc.fit(X_train, y_train)\n",
        "\n",
        "\n",
        "print('best_score:', gs_rfc.best_score_.round(3))\n",
        "print('best_params', gs_rfc.best_params_)\n",
        "\n",
        "pred = gs_rfc.best_estimator_.predict(X_test) \n",
        "print('best_score_test:',accuracy_score(y_test, pred).round(3))\n",
        "print('confusion_matrix:')\n",
        "print(confusion_matrix(y_test, pred))"
      ]
    },
    {
      "cell_type": "code",
      "execution_count": 191,
      "metadata": {},
      "outputs": [
        {
          "data": {
            "text/html": [
              "<style>#sk-container-id-55 {color: black;}#sk-container-id-55 pre{padding: 0;}#sk-container-id-55 div.sk-toggleable {background-color: white;}#sk-container-id-55 label.sk-toggleable__label {cursor: pointer;display: block;width: 100%;margin-bottom: 0;padding: 0.3em;box-sizing: border-box;text-align: center;}#sk-container-id-55 label.sk-toggleable__label-arrow:before {content: \"▸\";float: left;margin-right: 0.25em;color: #696969;}#sk-container-id-55 label.sk-toggleable__label-arrow:hover:before {color: black;}#sk-container-id-55 div.sk-estimator:hover label.sk-toggleable__label-arrow:before {color: black;}#sk-container-id-55 div.sk-toggleable__content {max-height: 0;max-width: 0;overflow: hidden;text-align: left;background-color: #f0f8ff;}#sk-container-id-55 div.sk-toggleable__content pre {margin: 0.2em;color: black;border-radius: 0.25em;background-color: #f0f8ff;}#sk-container-id-55 input.sk-toggleable__control:checked~div.sk-toggleable__content {max-height: 200px;max-width: 100%;overflow: auto;}#sk-container-id-55 input.sk-toggleable__control:checked~label.sk-toggleable__label-arrow:before {content: \"▾\";}#sk-container-id-55 div.sk-estimator input.sk-toggleable__control:checked~label.sk-toggleable__label {background-color: #d4ebff;}#sk-container-id-55 div.sk-label input.sk-toggleable__control:checked~label.sk-toggleable__label {background-color: #d4ebff;}#sk-container-id-55 input.sk-hidden--visually {border: 0;clip: rect(1px 1px 1px 1px);clip: rect(1px, 1px, 1px, 1px);height: 1px;margin: -1px;overflow: hidden;padding: 0;position: absolute;width: 1px;}#sk-container-id-55 div.sk-estimator {font-family: monospace;background-color: #f0f8ff;border: 1px dotted black;border-radius: 0.25em;box-sizing: border-box;margin-bottom: 0.5em;}#sk-container-id-55 div.sk-estimator:hover {background-color: #d4ebff;}#sk-container-id-55 div.sk-parallel-item::after {content: \"\";width: 100%;border-bottom: 1px solid gray;flex-grow: 1;}#sk-container-id-55 div.sk-label:hover label.sk-toggleable__label {background-color: #d4ebff;}#sk-container-id-55 div.sk-serial::before {content: \"\";position: absolute;border-left: 1px solid gray;box-sizing: border-box;top: 0;bottom: 0;left: 50%;z-index: 0;}#sk-container-id-55 div.sk-serial {display: flex;flex-direction: column;align-items: center;background-color: white;padding-right: 0.2em;padding-left: 0.2em;position: relative;}#sk-container-id-55 div.sk-item {position: relative;z-index: 1;}#sk-container-id-55 div.sk-parallel {display: flex;align-items: stretch;justify-content: center;background-color: white;position: relative;}#sk-container-id-55 div.sk-item::before, #sk-container-id-55 div.sk-parallel-item::before {content: \"\";position: absolute;border-left: 1px solid gray;box-sizing: border-box;top: 0;bottom: 0;left: 50%;z-index: -1;}#sk-container-id-55 div.sk-parallel-item {display: flex;flex-direction: column;z-index: 1;position: relative;background-color: white;}#sk-container-id-55 div.sk-parallel-item:first-child::after {align-self: flex-end;width: 50%;}#sk-container-id-55 div.sk-parallel-item:last-child::after {align-self: flex-start;width: 50%;}#sk-container-id-55 div.sk-parallel-item:only-child::after {width: 0;}#sk-container-id-55 div.sk-dashed-wrapped {border: 1px dashed gray;margin: 0 0.4em 0.5em 0.4em;box-sizing: border-box;padding-bottom: 0.4em;background-color: white;}#sk-container-id-55 div.sk-label label {font-family: monospace;font-weight: bold;display: inline-block;line-height: 1.2em;}#sk-container-id-55 div.sk-label-container {text-align: center;}#sk-container-id-55 div.sk-container {/* jupyter's `normalize.less` sets `[hidden] { display: none; }` but bootstrap.min.css set `[hidden] { display: none !important; }` so we also need the `!important` here to be able to override the default hidden behavior on the sphinx rendered scikit-learn.org. See: https://github.com/scikit-learn/scikit-learn/issues/21755 */display: inline-block !important;position: relative;}#sk-container-id-55 div.sk-text-repr-fallback {display: none;}</style><div id=\"sk-container-id-55\" class=\"sk-top-container\"><div class=\"sk-text-repr-fallback\"><pre>RandomForestClassifier(class_weight={0: 0.2, 1: 1}, max_depth=8,\n",
              "                       random_state=12345)</pre><b>In a Jupyter environment, please rerun this cell to show the HTML representation or trust the notebook. <br />On GitHub, the HTML representation is unable to render, please try loading this page with nbviewer.org.</b></div><div class=\"sk-container\" hidden><div class=\"sk-item\"><div class=\"sk-estimator sk-toggleable\"><input class=\"sk-toggleable__control sk-hidden--visually\" id=\"sk-estimator-id-193\" type=\"checkbox\" checked><label for=\"sk-estimator-id-193\" class=\"sk-toggleable__label sk-toggleable__label-arrow\">RandomForestClassifier</label><div class=\"sk-toggleable__content\"><pre>RandomForestClassifier(class_weight={0: 0.2, 1: 1}, max_depth=8,\n",
              "                       random_state=12345)</pre></div></div></div></div></div>"
            ],
            "text/plain": [
              "RandomForestClassifier(class_weight={0: 0.2, 1: 1}, max_depth=8,\n",
              "                       random_state=12345)"
            ]
          },
          "execution_count": 191,
          "metadata": {},
          "output_type": "execute_result"
        },
        {
          "data": {
            "text/plain": [
              "<Axes: xlabel='Gini-Importance', ylabel='Features'>"
            ]
          },
          "execution_count": 191,
          "metadata": {},
          "output_type": "execute_result"
        },
        {
          "data": {
            "text/plain": [
              "Text(0.5, 0, 'Importance')"
            ]
          },
          "execution_count": 191,
          "metadata": {},
          "output_type": "execute_result"
        },
        {
          "data": {
            "text/plain": [
              "Text(0, 0.5, 'Features')"
            ]
          },
          "execution_count": 191,
          "metadata": {},
          "output_type": "execute_result"
        },
        {
          "data": {
            "text/plain": [
              "Text(0.5, 1.0, 'Feature Importance')"
            ]
          },
          "execution_count": 191,
          "metadata": {},
          "output_type": "execute_result"
        },
        {
          "data": {
            "image/png": "[encoded data removed]",
            "text/plain": [
              "<Figure size 3000x1500 with 1 Axes>"
            ]
          },
          "metadata": {},
          "output_type": "display_data"
        },
        {
          "data": {
            "text/plain": [
              "None"
            ]
          },
          "metadata": {},
          "output_type": "display_data"
        },
        {
          "data": {
            "text/html": [
              "<div>\n",
              "<style scoped>\n",
              "    .dataframe tbody tr th:only-of-type {\n",
              "        vertical-align: middle;\n",
              "    }\n",
              "\n",
              "    .dataframe tbody tr th {\n",
              "        vertical-align: top;\n",
              "    }\n",
              "\n",
              "    .dataframe thead th {\n",
              "        text-align: right;\n",
              "    }\n",
              "</style>\n",
              "<table border=\"1\" class=\"dataframe\">\n",
              "  <thead>\n",
              "    <tr style=\"text-align: right;\">\n",
              "      <th></th>\n",
              "      <th>Features</th>\n",
              "      <th>Gini-Importance</th>\n",
              "    </tr>\n",
              "  </thead>\n",
              "  <tbody>\n",
              "    <tr>\n",
              "      <th>0</th>\n",
              "      <td>PageValues</td>\n",
              "      <td>0.630295</td>\n",
              "    </tr>\n",
              "    <tr>\n",
              "      <th>1</th>\n",
              "      <td>ExitRates</td>\n",
              "      <td>0.116863</td>\n",
              "    </tr>\n",
              "    <tr>\n",
              "      <th>2</th>\n",
              "      <td>ProductRelated_Duration</td>\n",
              "      <td>0.094449</td>\n",
              "    </tr>\n",
              "    <tr>\n",
              "      <th>3</th>\n",
              "      <td>BounceRates</td>\n",
              "      <td>0.053879</td>\n",
              "    </tr>\n",
              "    <tr>\n",
              "      <th>4</th>\n",
              "      <td>Administrative_Duration</td>\n",
              "      <td>0.038544</td>\n",
              "    </tr>\n",
              "    <tr>\n",
              "      <th>5</th>\n",
              "      <td>Informational_Duration</td>\n",
              "      <td>0.020775</td>\n",
              "    </tr>\n",
              "    <tr>\n",
              "      <th>6</th>\n",
              "      <td>TrafficType</td>\n",
              "      <td>0.016749</td>\n",
              "    </tr>\n",
              "    <tr>\n",
              "      <th>7</th>\n",
              "      <td>SpecialDay</td>\n",
              "      <td>0.010861</td>\n",
              "    </tr>\n",
              "    <tr>\n",
              "      <th>8</th>\n",
              "      <td>Region</td>\n",
              "      <td>0.010387</td>\n",
              "    </tr>\n",
              "    <tr>\n",
              "      <th>9</th>\n",
              "      <td>OperatingSystems</td>\n",
              "      <td>0.007196</td>\n",
              "    </tr>\n",
              "  </tbody>\n",
              "</table>\n",
              "</div>"
            ],
            "text/plain": [
              "                  Features  Gini-Importance\n",
              "0               PageValues         0.630295\n",
              "1                ExitRates         0.116863\n",
              "2  ProductRelated_Duration         0.094449\n",
              "3              BounceRates         0.053879\n",
              "4  Administrative_Duration         0.038544\n",
              "5   Informational_Duration         0.020775\n",
              "6              TrafficType         0.016749\n",
              "7               SpecialDay         0.010861\n",
              "8                   Region         0.010387\n",
              "9         OperatingSystems         0.007196"
            ]
          },
          "metadata": {},
          "output_type": "display_data"
        }
      ],
      "source": [
        "#ради интереса посмотрим на самые важные признаки для RandomForestClassifier \n",
        "rfc = RandomForestClassifier(random_state=RANDOM_STATE, n_estimators = 100, criterion='gini', max_depth = 8, class_weight = {0: 0.2, 1: 1})\n",
        "rfc.fit(X_train, y_train)\n",
        "\n",
        "feats = {}\n",
        "for feature, importance in zip(X.columns, rfc.feature_importances_):\n",
        "    feats[feature] = importance\n",
        "importances = pd.DataFrame.from_dict(feats, orient='index').rename(columns={0: 'Gini-Importance'})\n",
        "importances = importances.sort_values(by='Gini-Importance', ascending=False)\n",
        "importances = importances.reset_index()\n",
        "importances = importances.rename(columns={'index': 'Features'})\n",
        "sns.set(font_scale = 5)\n",
        "sns.set(style=\"whitegrid\", color_codes=True, font_scale = 1.7)\n",
        "fig, ax = plt.subplots()\n",
        "fig.set_size_inches(30,15)\n",
        "sns.barplot(x=importances['Gini-Importance'], y=importances['Features'], data=importances, color='skyblue')\n",
        "plt.xlabel('Importance', fontsize=25, weight = 'bold')\n",
        "plt.ylabel('Features', fontsize=25, weight = 'bold')\n",
        "plt.title('Feature Importance', fontsize=25, weight = 'bold')\n",
        "display(plt.show())\n",
        "display(importances)"
      ]
    },
    {
      "cell_type": "markdown",
      "metadata": {
        "id": "F4dxupjstI35"
      },
      "source": [
        "## С учетом категориальных признаков + нормализация"
      ]
    },
    {
      "cell_type": "code",
      "execution_count": 192,
      "metadata": {},
      "outputs": [],
      "source": [
        "# разделим данные на целевую переменную и матрицу объект-признак с учетом дополнительных категориальных признаков\n",
        "y = df['Revenue'] # целевая переменная\n",
        "X_full = df[['Administrative_Duration','Informational_Duration','ProductRelated_Duration',\n",
        "                    'BounceRates', 'ExitRates', 'PageValues', 'SpecialDay',\n",
        "                    'OperatingSystems', 'Region', 'TrafficType',\n",
        "                    'Month','VisitorType'\n",
        "\n",
        "                    ]] # матрица объект-признак"
      ]
    },
    {
      "cell_type": "code",
      "execution_count": 193,
      "metadata": {},
      "outputs": [
        {
          "name": "stdout",
          "output_type": "stream",
          "text": [
            "X_train_full : (9864, 12) ; X_test_full : (2466, 12)\n",
            "Y_train : (9864,) ; Y_test : (2466,)\n"
          ]
        }
      ],
      "source": [
        "#разделим увеличенную выборку на тренировочную и тестовую\n",
        "X_train_full, X_test_full, y_train, y_test = train_test_split(X_full, y, test_size=TEST_SIZE, random_state=RANDOM_STATE)\n",
        "\n",
        "print(\"X_train_full :\",X_train_full.shape, \"; X_test_full :\",X_test_full.shape)\n",
        "print(\"Y_train :\",y_train.shape, \"; Y_test :\",y_test.shape)\n"
      ]
    },
    {
      "cell_type": "code",
      "execution_count": 194,
      "metadata": {},
      "outputs": [],
      "source": [
        "#закодируем категориальные переменные + добавим масштабирование числовых признаков\n",
        "categorical = ['Month','VisitorType']\n",
        "numeric_features = ['Administrative_Duration','Informational_Duration','ProductRelated_Duration',\n",
        "                    'BounceRates', 'ExitRates', 'PageValues', 'SpecialDay',\n",
        "                    'OperatingSystems', 'Region', 'TrafficType']\n",
        "\n",
        "ct = ColumnTransformer([\n",
        "    ('ohe', OneHotEncoder(handle_unknown=\"ignore\"), categorical),\n",
        "    ('scaling', MinMaxScaler(), numeric_features)\n",
        "])\n",
        "\n",
        "X_train_transformed = ct.fit_transform(X_train_full)\n",
        "X_test_transformed = ct.transform(X_test_full)"
      ]
    },
    {
      "cell_type": "code",
      "execution_count": 195,
      "metadata": {},
      "outputs": [
        {
          "name": "stdout",
          "output_type": "stream",
          "text": [
            "Fitting 3 folds for each of 56 candidates, totalling 168 fits\n"
          ]
        },
        {
          "data": {
            "text/html": [
              "<style>#sk-container-id-56 {color: black;}#sk-container-id-56 pre{padding: 0;}#sk-container-id-56 div.sk-toggleable {background-color: white;}#sk-container-id-56 label.sk-toggleable__label {cursor: pointer;display: block;width: 100%;margin-bottom: 0;padding: 0.3em;box-sizing: border-box;text-align: center;}#sk-container-id-56 label.sk-toggleable__label-arrow:before {content: \"▸\";float: left;margin-right: 0.25em;color: #696969;}#sk-container-id-56 label.sk-toggleable__label-arrow:hover:before {color: black;}#sk-container-id-56 div.sk-estimator:hover label.sk-toggleable__label-arrow:before {color: black;}#sk-container-id-56 div.sk-toggleable__content {max-height: 0;max-width: 0;overflow: hidden;text-align: left;background-color: #f0f8ff;}#sk-container-id-56 div.sk-toggleable__content pre {margin: 0.2em;color: black;border-radius: 0.25em;background-color: #f0f8ff;}#sk-container-id-56 input.sk-toggleable__control:checked~div.sk-toggleable__content {max-height: 200px;max-width: 100%;overflow: auto;}#sk-container-id-56 input.sk-toggleable__control:checked~label.sk-toggleable__label-arrow:before {content: \"▾\";}#sk-container-id-56 div.sk-estimator input.sk-toggleable__control:checked~label.sk-toggleable__label {background-color: #d4ebff;}#sk-container-id-56 div.sk-label input.sk-toggleable__control:checked~label.sk-toggleable__label {background-color: #d4ebff;}#sk-container-id-56 input.sk-hidden--visually {border: 0;clip: rect(1px 1px 1px 1px);clip: rect(1px, 1px, 1px, 1px);height: 1px;margin: -1px;overflow: hidden;padding: 0;position: absolute;width: 1px;}#sk-container-id-56 div.sk-estimator {font-family: monospace;background-color: #f0f8ff;border: 1px dotted black;border-radius: 0.25em;box-sizing: border-box;margin-bottom: 0.5em;}#sk-container-id-56 div.sk-estimator:hover {background-color: #d4ebff;}#sk-container-id-56 div.sk-parallel-item::after {content: \"\";width: 100%;border-bottom: 1px solid gray;flex-grow: 1;}#sk-container-id-56 div.sk-label:hover label.sk-toggleable__label {background-color: #d4ebff;}#sk-container-id-56 div.sk-serial::before {content: \"\";position: absolute;border-left: 1px solid gray;box-sizing: border-box;top: 0;bottom: 0;left: 50%;z-index: 0;}#sk-container-id-56 div.sk-serial {display: flex;flex-direction: column;align-items: center;background-color: white;padding-right: 0.2em;padding-left: 0.2em;position: relative;}#sk-container-id-56 div.sk-item {position: relative;z-index: 1;}#sk-container-id-56 div.sk-parallel {display: flex;align-items: stretch;justify-content: center;background-color: white;position: relative;}#sk-container-id-56 div.sk-item::before, #sk-container-id-56 div.sk-parallel-item::before {content: \"\";position: absolute;border-left: 1px solid gray;box-sizing: border-box;top: 0;bottom: 0;left: 50%;z-index: -1;}#sk-container-id-56 div.sk-parallel-item {display: flex;flex-direction: column;z-index: 1;position: relative;background-color: white;}#sk-container-id-56 div.sk-parallel-item:first-child::after {align-self: flex-end;width: 50%;}#sk-container-id-56 div.sk-parallel-item:last-child::after {align-self: flex-start;width: 50%;}#sk-container-id-56 div.sk-parallel-item:only-child::after {width: 0;}#sk-container-id-56 div.sk-dashed-wrapped {border: 1px dashed gray;margin: 0 0.4em 0.5em 0.4em;box-sizing: border-box;padding-bottom: 0.4em;background-color: white;}#sk-container-id-56 div.sk-label label {font-family: monospace;font-weight: bold;display: inline-block;line-height: 1.2em;}#sk-container-id-56 div.sk-label-container {text-align: center;}#sk-container-id-56 div.sk-container {/* jupyter's `normalize.less` sets `[hidden] { display: none; }` but bootstrap.min.css set `[hidden] { display: none !important; }` so we also need the `!important` here to be able to override the default hidden behavior on the sphinx rendered scikit-learn.org. See: https://github.com/scikit-learn/scikit-learn/issues/21755 */display: inline-block !important;position: relative;}#sk-container-id-56 div.sk-text-repr-fallback {display: none;}</style><div id=\"sk-container-id-56\" class=\"sk-top-container\"><div class=\"sk-text-repr-fallback\"><pre>GridSearchCV(cv=3, estimator=KNeighborsClassifier(), n_jobs=-1,\n",
              "             param_grid={&#x27;n_neighbors&#x27;: array([ 2,  4,  6,  8, 10, 12, 14, 16, 18, 20, 22, 24, 26, 28]),\n",
              "                         &#x27;p&#x27;: [1, 2], &#x27;weights&#x27;: [&#x27;uniform&#x27;, &#x27;distance&#x27;]},\n",
              "             scoring=&#x27;accuracy&#x27;, verbose=2)</pre><b>In a Jupyter environment, please rerun this cell to show the HTML representation or trust the notebook. <br />On GitHub, the HTML representation is unable to render, please try loading this page with nbviewer.org.</b></div><div class=\"sk-container\" hidden><div class=\"sk-item sk-dashed-wrapped\"><div class=\"sk-label-container\"><div class=\"sk-label sk-toggleable\"><input class=\"sk-toggleable__control sk-hidden--visually\" id=\"sk-estimator-id-194\" type=\"checkbox\" ><label for=\"sk-estimator-id-194\" class=\"sk-toggleable__label sk-toggleable__label-arrow\">GridSearchCV</label><div class=\"sk-toggleable__content\"><pre>GridSearchCV(cv=3, estimator=KNeighborsClassifier(), n_jobs=-1,\n",
              "             param_grid={&#x27;n_neighbors&#x27;: array([ 2,  4,  6,  8, 10, 12, 14, 16, 18, 20, 22, 24, 26, 28]),\n",
              "                         &#x27;p&#x27;: [1, 2], &#x27;weights&#x27;: [&#x27;uniform&#x27;, &#x27;distance&#x27;]},\n",
              "             scoring=&#x27;accuracy&#x27;, verbose=2)</pre></div></div></div><div class=\"sk-parallel\"><div class=\"sk-parallel-item\"><div class=\"sk-item\"><div class=\"sk-label-container\"><div class=\"sk-label sk-toggleable\"><input class=\"sk-toggleable__control sk-hidden--visually\" id=\"sk-estimator-id-195\" type=\"checkbox\" ><label for=\"sk-estimator-id-195\" class=\"sk-toggleable__label sk-toggleable__label-arrow\">estimator: KNeighborsClassifier</label><div class=\"sk-toggleable__content\"><pre>KNeighborsClassifier()</pre></div></div></div><div class=\"sk-serial\"><div class=\"sk-item\"><div class=\"sk-estimator sk-toggleable\"><input class=\"sk-toggleable__control sk-hidden--visually\" id=\"sk-estimator-id-196\" type=\"checkbox\" ><label for=\"sk-estimator-id-196\" class=\"sk-toggleable__label sk-toggleable__label-arrow\">KNeighborsClassifier</label><div class=\"sk-toggleable__content\"><pre>KNeighborsClassifier()</pre></div></div></div></div></div></div></div></div></div></div>"
            ],
            "text/plain": [
              "GridSearchCV(cv=3, estimator=KNeighborsClassifier(), n_jobs=-1,\n",
              "             param_grid={'n_neighbors': array([ 2,  4,  6,  8, 10, 12, 14, 16, 18, 20, 22, 24, 26, 28]),\n",
              "                         'p': [1, 2], 'weights': ['uniform', 'distance']},\n",
              "             scoring='accuracy', verbose=2)"
            ]
          },
          "execution_count": 195,
          "metadata": {},
          "output_type": "execute_result"
        },
        {
          "name": "stdout",
          "output_type": "stream",
          "text": [
            "best_score: 0.863\n",
            "best_params {'n_neighbors': 12, 'p': 2, 'weights': 'distance'}\n",
            "best_score_test: 0.858\n",
            "confusion_matrix:\n",
            "[[2033   29]\n",
            " [ 321   83]]\n"
          ]
        }
      ],
      "source": [
        "#KNeighborsClassifier\n",
        "model = KNeighborsClassifier()\n",
        "\n",
        "params = {'n_neighbors' : np.arange(2, 30, 2),\n",
        "          'weights' : ['uniform', 'distance'],\n",
        "          'p' : [1, 2]}\n",
        "\n",
        "gs_knc = GridSearchCV(model, params, scoring='accuracy', cv=3, n_jobs=-1, verbose=2)\n",
        "gs_knc.fit(X_train_transformed, y_train)\n",
        "\n",
        "\n",
        "print('best_score:', gs_knc.best_score_.round(3))\n",
        "print('best_params', gs_knc.best_params_)\n",
        "\n",
        "pred = gs_knc.best_estimator_.predict(X_test_transformed) \n",
        "print('best_score_test:',accuracy_score(y_test, pred).round(3))\n",
        "print('confusion_matrix:')\n",
        "print(confusion_matrix(y_test, pred))\n"
      ]
    },
    {
      "cell_type": "code",
      "execution_count": 196,
      "metadata": {},
      "outputs": [
        {
          "name": "stdout",
          "output_type": "stream",
          "text": [
            "Fitting 3 folds for each of 48 candidates, totalling 144 fits\n"
          ]
        },
        {
          "data": {
            "text/html": [
              "<style>#sk-container-id-57 {color: black;}#sk-container-id-57 pre{padding: 0;}#sk-container-id-57 div.sk-toggleable {background-color: white;}#sk-container-id-57 label.sk-toggleable__label {cursor: pointer;display: block;width: 100%;margin-bottom: 0;padding: 0.3em;box-sizing: border-box;text-align: center;}#sk-container-id-57 label.sk-toggleable__label-arrow:before {content: \"▸\";float: left;margin-right: 0.25em;color: #696969;}#sk-container-id-57 label.sk-toggleable__label-arrow:hover:before {color: black;}#sk-container-id-57 div.sk-estimator:hover label.sk-toggleable__label-arrow:before {color: black;}#sk-container-id-57 div.sk-toggleable__content {max-height: 0;max-width: 0;overflow: hidden;text-align: left;background-color: #f0f8ff;}#sk-container-id-57 div.sk-toggleable__content pre {margin: 0.2em;color: black;border-radius: 0.25em;background-color: #f0f8ff;}#sk-container-id-57 input.sk-toggleable__control:checked~div.sk-toggleable__content {max-height: 200px;max-width: 100%;overflow: auto;}#sk-container-id-57 input.sk-toggleable__control:checked~label.sk-toggleable__label-arrow:before {content: \"▾\";}#sk-container-id-57 div.sk-estimator input.sk-toggleable__control:checked~label.sk-toggleable__label {background-color: #d4ebff;}#sk-container-id-57 div.sk-label input.sk-toggleable__control:checked~label.sk-toggleable__label {background-color: #d4ebff;}#sk-container-id-57 input.sk-hidden--visually {border: 0;clip: rect(1px 1px 1px 1px);clip: rect(1px, 1px, 1px, 1px);height: 1px;margin: -1px;overflow: hidden;padding: 0;position: absolute;width: 1px;}#sk-container-id-57 div.sk-estimator {font-family: monospace;background-color: #f0f8ff;border: 1px dotted black;border-radius: 0.25em;box-sizing: border-box;margin-bottom: 0.5em;}#sk-container-id-57 div.sk-estimator:hover {background-color: #d4ebff;}#sk-container-id-57 div.sk-parallel-item::after {content: \"\";width: 100%;border-bottom: 1px solid gray;flex-grow: 1;}#sk-container-id-57 div.sk-label:hover label.sk-toggleable__label {background-color: #d4ebff;}#sk-container-id-57 div.sk-serial::before {content: \"\";position: absolute;border-left: 1px solid gray;box-sizing: border-box;top: 0;bottom: 0;left: 50%;z-index: 0;}#sk-container-id-57 div.sk-serial {display: flex;flex-direction: column;align-items: center;background-color: white;padding-right: 0.2em;padding-left: 0.2em;position: relative;}#sk-container-id-57 div.sk-item {position: relative;z-index: 1;}#sk-container-id-57 div.sk-parallel {display: flex;align-items: stretch;justify-content: center;background-color: white;position: relative;}#sk-container-id-57 div.sk-item::before, #sk-container-id-57 div.sk-parallel-item::before {content: \"\";position: absolute;border-left: 1px solid gray;box-sizing: border-box;top: 0;bottom: 0;left: 50%;z-index: -1;}#sk-container-id-57 div.sk-parallel-item {display: flex;flex-direction: column;z-index: 1;position: relative;background-color: white;}#sk-container-id-57 div.sk-parallel-item:first-child::after {align-self: flex-end;width: 50%;}#sk-container-id-57 div.sk-parallel-item:last-child::after {align-self: flex-start;width: 50%;}#sk-container-id-57 div.sk-parallel-item:only-child::after {width: 0;}#sk-container-id-57 div.sk-dashed-wrapped {border: 1px dashed gray;margin: 0 0.4em 0.5em 0.4em;box-sizing: border-box;padding-bottom: 0.4em;background-color: white;}#sk-container-id-57 div.sk-label label {font-family: monospace;font-weight: bold;display: inline-block;line-height: 1.2em;}#sk-container-id-57 div.sk-label-container {text-align: center;}#sk-container-id-57 div.sk-container {/* jupyter's `normalize.less` sets `[hidden] { display: none; }` but bootstrap.min.css set `[hidden] { display: none !important; }` so we also need the `!important` here to be able to override the default hidden behavior on the sphinx rendered scikit-learn.org. See: https://github.com/scikit-learn/scikit-learn/issues/21755 */display: inline-block !important;position: relative;}#sk-container-id-57 div.sk-text-repr-fallback {display: none;}</style><div id=\"sk-container-id-57\" class=\"sk-top-container\"><div class=\"sk-text-repr-fallback\"><pre>GridSearchCV(cv=3, estimator=RandomForestClassifier(random_state=12345),\n",
              "             n_jobs=-1,\n",
              "             param_grid={&#x27;criterion&#x27;: [&#x27;gini&#x27;, &#x27;entropy&#x27;, &#x27;log_loss&#x27;],\n",
              "                         &#x27;max_depth&#x27;: array([2, 4, 6, 8]),\n",
              "                         &#x27;n_estimators&#x27;: array([100, 150, 200, 250])},\n",
              "             scoring=&#x27;accuracy&#x27;, verbose=2)</pre><b>In a Jupyter environment, please rerun this cell to show the HTML representation or trust the notebook. <br />On GitHub, the HTML representation is unable to render, please try loading this page with nbviewer.org.</b></div><div class=\"sk-container\" hidden><div class=\"sk-item sk-dashed-wrapped\"><div class=\"sk-label-container\"><div class=\"sk-label sk-toggleable\"><input class=\"sk-toggleable__control sk-hidden--visually\" id=\"sk-estimator-id-197\" type=\"checkbox\" ><label for=\"sk-estimator-id-197\" class=\"sk-toggleable__label sk-toggleable__label-arrow\">GridSearchCV</label><div class=\"sk-toggleable__content\"><pre>GridSearchCV(cv=3, estimator=RandomForestClassifier(random_state=12345),\n",
              "             n_jobs=-1,\n",
              "             param_grid={&#x27;criterion&#x27;: [&#x27;gini&#x27;, &#x27;entropy&#x27;, &#x27;log_loss&#x27;],\n",
              "                         &#x27;max_depth&#x27;: array([2, 4, 6, 8]),\n",
              "                         &#x27;n_estimators&#x27;: array([100, 150, 200, 250])},\n",
              "             scoring=&#x27;accuracy&#x27;, verbose=2)</pre></div></div></div><div class=\"sk-parallel\"><div class=\"sk-parallel-item\"><div class=\"sk-item\"><div class=\"sk-label-container\"><div class=\"sk-label sk-toggleable\"><input class=\"sk-toggleable__control sk-hidden--visually\" id=\"sk-estimator-id-198\" type=\"checkbox\" ><label for=\"sk-estimator-id-198\" class=\"sk-toggleable__label sk-toggleable__label-arrow\">estimator: RandomForestClassifier</label><div class=\"sk-toggleable__content\"><pre>RandomForestClassifier(random_state=12345)</pre></div></div></div><div class=\"sk-serial\"><div class=\"sk-item\"><div class=\"sk-estimator sk-toggleable\"><input class=\"sk-toggleable__control sk-hidden--visually\" id=\"sk-estimator-id-199\" type=\"checkbox\" ><label for=\"sk-estimator-id-199\" class=\"sk-toggleable__label sk-toggleable__label-arrow\">RandomForestClassifier</label><div class=\"sk-toggleable__content\"><pre>RandomForestClassifier(random_state=12345)</pre></div></div></div></div></div></div></div></div></div></div>"
            ],
            "text/plain": [
              "GridSearchCV(cv=3, estimator=RandomForestClassifier(random_state=12345),\n",
              "             n_jobs=-1,\n",
              "             param_grid={'criterion': ['gini', 'entropy', 'log_loss'],\n",
              "                         'max_depth': array([2, 4, 6, 8]),\n",
              "                         'n_estimators': array([100, 150, 200, 250])},\n",
              "             scoring='accuracy', verbose=2)"
            ]
          },
          "execution_count": 196,
          "metadata": {},
          "output_type": "execute_result"
        },
        {
          "name": "stdout",
          "output_type": "stream",
          "text": [
            "best_score: 0.903\n",
            "best_params {'criterion': 'entropy', 'max_depth': 8, 'n_estimators': 100}\n",
            "best_score_test: 0.898\n",
            "confusion_matrix:\n",
            "[[2015   47]\n",
            " [ 205  199]]\n"
          ]
        }
      ],
      "source": [
        "#RandomForestClassifier\n",
        "model = RandomForestClassifier(random_state = RANDOM_STATE) \n",
        "\n",
        "params = {'n_estimators' : np.arange(100, 300, 50),\n",
        "          'criterion' : ['gini', 'entropy', 'log_loss'],\n",
        "          'max_depth': np.arange(2, 10, 2)}\n",
        "\n",
        "gs_rfc = GridSearchCV(model, params, scoring ='accuracy', cv=3, n_jobs=-1, verbose=2)\n",
        "gs_rfc.fit(X_train_transformed, y_train)\n",
        "\n",
        "\n",
        "print('best_score:', gs_rfc.best_score_.round(3))\n",
        "print('best_params', gs_rfc.best_params_)\n",
        "\n",
        "pred = gs_rfc.best_estimator_.predict(X_test_transformed) \n",
        "print('best_score_test:',accuracy_score(y_test, pred).round(3))\n",
        "print('confusion_matrix:')\n",
        "print(confusion_matrix(y_test, pred))\n"
      ]
    },
    {
      "cell_type": "code",
      "execution_count": 197,
      "metadata": {},
      "outputs": [
        {
          "name": "stdout",
          "output_type": "stream",
          "text": [
            "Fitting 3 folds for each of 48 candidates, totalling 144 fits\n"
          ]
        },
        {
          "data": {
            "text/html": [
              "<style>#sk-container-id-58 {color: black;}#sk-container-id-58 pre{padding: 0;}#sk-container-id-58 div.sk-toggleable {background-color: white;}#sk-container-id-58 label.sk-toggleable__label {cursor: pointer;display: block;width: 100%;margin-bottom: 0;padding: 0.3em;box-sizing: border-box;text-align: center;}#sk-container-id-58 label.sk-toggleable__label-arrow:before {content: \"▸\";float: left;margin-right: 0.25em;color: #696969;}#sk-container-id-58 label.sk-toggleable__label-arrow:hover:before {color: black;}#sk-container-id-58 div.sk-estimator:hover label.sk-toggleable__label-arrow:before {color: black;}#sk-container-id-58 div.sk-toggleable__content {max-height: 0;max-width: 0;overflow: hidden;text-align: left;background-color: #f0f8ff;}#sk-container-id-58 div.sk-toggleable__content pre {margin: 0.2em;color: black;border-radius: 0.25em;background-color: #f0f8ff;}#sk-container-id-58 input.sk-toggleable__control:checked~div.sk-toggleable__content {max-height: 200px;max-width: 100%;overflow: auto;}#sk-container-id-58 input.sk-toggleable__control:checked~label.sk-toggleable__label-arrow:before {content: \"▾\";}#sk-container-id-58 div.sk-estimator input.sk-toggleable__control:checked~label.sk-toggleable__label {background-color: #d4ebff;}#sk-container-id-58 div.sk-label input.sk-toggleable__control:checked~label.sk-toggleable__label {background-color: #d4ebff;}#sk-container-id-58 input.sk-hidden--visually {border: 0;clip: rect(1px 1px 1px 1px);clip: rect(1px, 1px, 1px, 1px);height: 1px;margin: -1px;overflow: hidden;padding: 0;position: absolute;width: 1px;}#sk-container-id-58 div.sk-estimator {font-family: monospace;background-color: #f0f8ff;border: 1px dotted black;border-radius: 0.25em;box-sizing: border-box;margin-bottom: 0.5em;}#sk-container-id-58 div.sk-estimator:hover {background-color: #d4ebff;}#sk-container-id-58 div.sk-parallel-item::after {content: \"\";width: 100%;border-bottom: 1px solid gray;flex-grow: 1;}#sk-container-id-58 div.sk-label:hover label.sk-toggleable__label {background-color: #d4ebff;}#sk-container-id-58 div.sk-serial::before {content: \"\";position: absolute;border-left: 1px solid gray;box-sizing: border-box;top: 0;bottom: 0;left: 50%;z-index: 0;}#sk-container-id-58 div.sk-serial {display: flex;flex-direction: column;align-items: center;background-color: white;padding-right: 0.2em;padding-left: 0.2em;position: relative;}#sk-container-id-58 div.sk-item {position: relative;z-index: 1;}#sk-container-id-58 div.sk-parallel {display: flex;align-items: stretch;justify-content: center;background-color: white;position: relative;}#sk-container-id-58 div.sk-item::before, #sk-container-id-58 div.sk-parallel-item::before {content: \"\";position: absolute;border-left: 1px solid gray;box-sizing: border-box;top: 0;bottom: 0;left: 50%;z-index: -1;}#sk-container-id-58 div.sk-parallel-item {display: flex;flex-direction: column;z-index: 1;position: relative;background-color: white;}#sk-container-id-58 div.sk-parallel-item:first-child::after {align-self: flex-end;width: 50%;}#sk-container-id-58 div.sk-parallel-item:last-child::after {align-self: flex-start;width: 50%;}#sk-container-id-58 div.sk-parallel-item:only-child::after {width: 0;}#sk-container-id-58 div.sk-dashed-wrapped {border: 1px dashed gray;margin: 0 0.4em 0.5em 0.4em;box-sizing: border-box;padding-bottom: 0.4em;background-color: white;}#sk-container-id-58 div.sk-label label {font-family: monospace;font-weight: bold;display: inline-block;line-height: 1.2em;}#sk-container-id-58 div.sk-label-container {text-align: center;}#sk-container-id-58 div.sk-container {/* jupyter's `normalize.less` sets `[hidden] { display: none; }` but bootstrap.min.css set `[hidden] { display: none !important; }` so we also need the `!important` here to be able to override the default hidden behavior on the sphinx rendered scikit-learn.org. See: https://github.com/scikit-learn/scikit-learn/issues/21755 */display: inline-block !important;position: relative;}#sk-container-id-58 div.sk-text-repr-fallback {display: none;}</style><div id=\"sk-container-id-58\" class=\"sk-top-container\"><div class=\"sk-text-repr-fallback\"><pre>GridSearchCV(cv=3,\n",
              "             estimator=RandomForestClassifier(class_weight={0: 0.2, 1: 1},\n",
              "                                              random_state=12345),\n",
              "             n_jobs=-1,\n",
              "             param_grid={&#x27;criterion&#x27;: [&#x27;gini&#x27;, &#x27;entropy&#x27;, &#x27;log_loss&#x27;],\n",
              "                         &#x27;max_depth&#x27;: array([2, 4, 6, 8]),\n",
              "                         &#x27;n_estimators&#x27;: array([100, 150, 200, 250])},\n",
              "             scoring=&#x27;accuracy&#x27;, verbose=2)</pre><b>In a Jupyter environment, please rerun this cell to show the HTML representation or trust the notebook. <br />On GitHub, the HTML representation is unable to render, please try loading this page with nbviewer.org.</b></div><div class=\"sk-container\" hidden><div class=\"sk-item sk-dashed-wrapped\"><div class=\"sk-label-container\"><div class=\"sk-label sk-toggleable\"><input class=\"sk-toggleable__control sk-hidden--visually\" id=\"sk-estimator-id-200\" type=\"checkbox\" ><label for=\"sk-estimator-id-200\" class=\"sk-toggleable__label sk-toggleable__label-arrow\">GridSearchCV</label><div class=\"sk-toggleable__content\"><pre>GridSearchCV(cv=3,\n",
              "             estimator=RandomForestClassifier(class_weight={0: 0.2, 1: 1},\n",
              "                                              random_state=12345),\n",
              "             n_jobs=-1,\n",
              "             param_grid={&#x27;criterion&#x27;: [&#x27;gini&#x27;, &#x27;entropy&#x27;, &#x27;log_loss&#x27;],\n",
              "                         &#x27;max_depth&#x27;: array([2, 4, 6, 8]),\n",
              "                         &#x27;n_estimators&#x27;: array([100, 150, 200, 250])},\n",
              "             scoring=&#x27;accuracy&#x27;, verbose=2)</pre></div></div></div><div class=\"sk-parallel\"><div class=\"sk-parallel-item\"><div class=\"sk-item\"><div class=\"sk-label-container\"><div class=\"sk-label sk-toggleable\"><input class=\"sk-toggleable__control sk-hidden--visually\" id=\"sk-estimator-id-201\" type=\"checkbox\" ><label for=\"sk-estimator-id-201\" class=\"sk-toggleable__label sk-toggleable__label-arrow\">estimator: RandomForestClassifier</label><div class=\"sk-toggleable__content\"><pre>RandomForestClassifier(class_weight={0: 0.2, 1: 1}, random_state=12345)</pre></div></div></div><div class=\"sk-serial\"><div class=\"sk-item\"><div class=\"sk-estimator sk-toggleable\"><input class=\"sk-toggleable__control sk-hidden--visually\" id=\"sk-estimator-id-202\" type=\"checkbox\" ><label for=\"sk-estimator-id-202\" class=\"sk-toggleable__label sk-toggleable__label-arrow\">RandomForestClassifier</label><div class=\"sk-toggleable__content\"><pre>RandomForestClassifier(class_weight={0: 0.2, 1: 1}, random_state=12345)</pre></div></div></div></div></div></div></div></div></div></div>"
            ],
            "text/plain": [
              "GridSearchCV(cv=3,\n",
              "             estimator=RandomForestClassifier(class_weight={0: 0.2, 1: 1},\n",
              "                                              random_state=12345),\n",
              "             n_jobs=-1,\n",
              "             param_grid={'criterion': ['gini', 'entropy', 'log_loss'],\n",
              "                         'max_depth': array([2, 4, 6, 8]),\n",
              "                         'n_estimators': array([100, 150, 200, 250])},\n",
              "             scoring='accuracy', verbose=2)"
            ]
          },
          "execution_count": 197,
          "metadata": {},
          "output_type": "execute_result"
        },
        {
          "name": "stdout",
          "output_type": "stream",
          "text": [
            "best_score: 0.874\n",
            "best_params {'criterion': 'entropy', 'max_depth': 4, 'n_estimators': 100}\n",
            "best_score_test: 0.882\n",
            "confusion_matrix:\n",
            "[[1841  221]\n",
            " [  71  333]]\n"
          ]
        }
      ],
      "source": [
        "#RandomForestClassifier, добавим в параметры балансировку по целевой переменной\n",
        "model = RandomForestClassifier(random_state=RANDOM_STATE, class_weight = {0: 0.2, 1: 1})\n",
        "\n",
        "params = {'n_estimators' : np.arange(100, 300, 50),\n",
        "          'criterion' : ['gini', 'entropy', 'log_loss'],\n",
        "          'max_depth': np.arange(2, 10, 2)}\n",
        "\n",
        "gs_rfc = GridSearchCV(model, params, scoring ='accuracy', cv=3, n_jobs=-1, verbose=2)\n",
        "gs_rfc.fit(X_train_transformed, y_train)\n",
        "\n",
        "\n",
        "print('best_score:', gs_rfc.best_score_.round(3))\n",
        "print('best_params', gs_rfc.best_params_)\n",
        "\n",
        "pred = gs_rfc.best_estimator_.predict(X_test_transformed) \n",
        "print('best_score_test:',accuracy_score(y_test, pred).round(3))\n",
        "print('confusion_matrix:')\n",
        "print(confusion_matrix(y_test, pred))\n"
      ]
    },
    {
      "cell_type": "code",
      "execution_count": 198,
      "metadata": {},
      "outputs": [
        {
          "data": {
            "text/html": [
              "<style>#sk-container-id-59 {color: black;}#sk-container-id-59 pre{padding: 0;}#sk-container-id-59 div.sk-toggleable {background-color: white;}#sk-container-id-59 label.sk-toggleable__label {cursor: pointer;display: block;width: 100%;margin-bottom: 0;padding: 0.3em;box-sizing: border-box;text-align: center;}#sk-container-id-59 label.sk-toggleable__label-arrow:before {content: \"▸\";float: left;margin-right: 0.25em;color: #696969;}#sk-container-id-59 label.sk-toggleable__label-arrow:hover:before {color: black;}#sk-container-id-59 div.sk-estimator:hover label.sk-toggleable__label-arrow:before {color: black;}#sk-container-id-59 div.sk-toggleable__content {max-height: 0;max-width: 0;overflow: hidden;text-align: left;background-color: #f0f8ff;}#sk-container-id-59 div.sk-toggleable__content pre {margin: 0.2em;color: black;border-radius: 0.25em;background-color: #f0f8ff;}#sk-container-id-59 input.sk-toggleable__control:checked~div.sk-toggleable__content {max-height: 200px;max-width: 100%;overflow: auto;}#sk-container-id-59 input.sk-toggleable__control:checked~label.sk-toggleable__label-arrow:before {content: \"▾\";}#sk-container-id-59 div.sk-estimator input.sk-toggleable__control:checked~label.sk-toggleable__label {background-color: #d4ebff;}#sk-container-id-59 div.sk-label input.sk-toggleable__control:checked~label.sk-toggleable__label {background-color: #d4ebff;}#sk-container-id-59 input.sk-hidden--visually {border: 0;clip: rect(1px 1px 1px 1px);clip: rect(1px, 1px, 1px, 1px);height: 1px;margin: -1px;overflow: hidden;padding: 0;position: absolute;width: 1px;}#sk-container-id-59 div.sk-estimator {font-family: monospace;background-color: #f0f8ff;border: 1px dotted black;border-radius: 0.25em;box-sizing: border-box;margin-bottom: 0.5em;}#sk-container-id-59 div.sk-estimator:hover {background-color: #d4ebff;}#sk-container-id-59 div.sk-parallel-item::after {content: \"\";width: 100%;border-bottom: 1px solid gray;flex-grow: 1;}#sk-container-id-59 div.sk-label:hover label.sk-toggleable__label {background-color: #d4ebff;}#sk-container-id-59 div.sk-serial::before {content: \"\";position: absolute;border-left: 1px solid gray;box-sizing: border-box;top: 0;bottom: 0;left: 50%;z-index: 0;}#sk-container-id-59 div.sk-serial {display: flex;flex-direction: column;align-items: center;background-color: white;padding-right: 0.2em;padding-left: 0.2em;position: relative;}#sk-container-id-59 div.sk-item {position: relative;z-index: 1;}#sk-container-id-59 div.sk-parallel {display: flex;align-items: stretch;justify-content: center;background-color: white;position: relative;}#sk-container-id-59 div.sk-item::before, #sk-container-id-59 div.sk-parallel-item::before {content: \"\";position: absolute;border-left: 1px solid gray;box-sizing: border-box;top: 0;bottom: 0;left: 50%;z-index: -1;}#sk-container-id-59 div.sk-parallel-item {display: flex;flex-direction: column;z-index: 1;position: relative;background-color: white;}#sk-container-id-59 div.sk-parallel-item:first-child::after {align-self: flex-end;width: 50%;}#sk-container-id-59 div.sk-parallel-item:last-child::after {align-self: flex-start;width: 50%;}#sk-container-id-59 div.sk-parallel-item:only-child::after {width: 0;}#sk-container-id-59 div.sk-dashed-wrapped {border: 1px dashed gray;margin: 0 0.4em 0.5em 0.4em;box-sizing: border-box;padding-bottom: 0.4em;background-color: white;}#sk-container-id-59 div.sk-label label {font-family: monospace;font-weight: bold;display: inline-block;line-height: 1.2em;}#sk-container-id-59 div.sk-label-container {text-align: center;}#sk-container-id-59 div.sk-container {/* jupyter's `normalize.less` sets `[hidden] { display: none; }` but bootstrap.min.css set `[hidden] { display: none !important; }` so we also need the `!important` here to be able to override the default hidden behavior on the sphinx rendered scikit-learn.org. See: https://github.com/scikit-learn/scikit-learn/issues/21755 */display: inline-block !important;position: relative;}#sk-container-id-59 div.sk-text-repr-fallback {display: none;}</style><div id=\"sk-container-id-59\" class=\"sk-top-container\"><div class=\"sk-text-repr-fallback\"><pre>RandomForestClassifier(class_weight={0: 0.2, 1: 1}, max_depth=8,\n",
              "                       random_state=12345)</pre><b>In a Jupyter environment, please rerun this cell to show the HTML representation or trust the notebook. <br />On GitHub, the HTML representation is unable to render, please try loading this page with nbviewer.org.</b></div><div class=\"sk-container\" hidden><div class=\"sk-item\"><div class=\"sk-estimator sk-toggleable\"><input class=\"sk-toggleable__control sk-hidden--visually\" id=\"sk-estimator-id-203\" type=\"checkbox\" checked><label for=\"sk-estimator-id-203\" class=\"sk-toggleable__label sk-toggleable__label-arrow\">RandomForestClassifier</label><div class=\"sk-toggleable__content\"><pre>RandomForestClassifier(class_weight={0: 0.2, 1: 1}, max_depth=8,\n",
              "                       random_state=12345)</pre></div></div></div></div></div>"
            ],
            "text/plain": [
              "RandomForestClassifier(class_weight={0: 0.2, 1: 1}, max_depth=8,\n",
              "                       random_state=12345)"
            ]
          },
          "execution_count": 198,
          "metadata": {},
          "output_type": "execute_result"
        },
        {
          "data": {
            "text/plain": [
              "<Axes: xlabel='Gini-Importance', ylabel='Features'>"
            ]
          },
          "execution_count": 198,
          "metadata": {},
          "output_type": "execute_result"
        },
        {
          "data": {
            "text/plain": [
              "Text(0.5, 0, 'Importance')"
            ]
          },
          "execution_count": 198,
          "metadata": {},
          "output_type": "execute_result"
        },
        {
          "data": {
            "text/plain": [
              "Text(0, 0.5, 'Features')"
            ]
          },
          "execution_count": 198,
          "metadata": {},
          "output_type": "execute_result"
        },
        {
          "data": {
            "text/plain": [
              "Text(0.5, 1.0, 'Feature Importance')"
            ]
          },
          "execution_count": 198,
          "metadata": {},
          "output_type": "execute_result"
        },
        {
          "data": {
            "image/png": "[encoded data removed]",
            "text/plain": [
              "<Figure size 3000x1500 with 1 Axes>"
            ]
          },
          "metadata": {},
          "output_type": "display_data"
        },
        {
          "data": {
            "text/plain": [
              "None"
            ]
          },
          "metadata": {},
          "output_type": "display_data"
        },
        {
          "data": {
            "text/html": [
              "<div>\n",
              "<style scoped>\n",
              "    .dataframe tbody tr th:only-of-type {\n",
              "        vertical-align: middle;\n",
              "    }\n",
              "\n",
              "    .dataframe tbody tr th {\n",
              "        vertical-align: top;\n",
              "    }\n",
              "\n",
              "    .dataframe thead th {\n",
              "        text-align: right;\n",
              "    }\n",
              "</style>\n",
              "<table border=\"1\" class=\"dataframe\">\n",
              "  <thead>\n",
              "    <tr style=\"text-align: right;\">\n",
              "      <th></th>\n",
              "      <th>Features</th>\n",
              "      <th>Gini-Importance</th>\n",
              "    </tr>\n",
              "  </thead>\n",
              "  <tbody>\n",
              "    <tr>\n",
              "      <th>0</th>\n",
              "      <td>OperatingSystems</td>\n",
              "      <td>0.038819</td>\n",
              "    </tr>\n",
              "    <tr>\n",
              "      <th>1</th>\n",
              "      <td>SpecialDay</td>\n",
              "      <td>0.013971</td>\n",
              "    </tr>\n",
              "    <tr>\n",
              "      <th>2</th>\n",
              "      <td>Month</td>\n",
              "      <td>0.010756</td>\n",
              "    </tr>\n",
              "    <tr>\n",
              "      <th>3</th>\n",
              "      <td>PageValues</td>\n",
              "      <td>0.009644</td>\n",
              "    </tr>\n",
              "    <tr>\n",
              "      <th>4</th>\n",
              "      <td>Region</td>\n",
              "      <td>0.003647</td>\n",
              "    </tr>\n",
              "    <tr>\n",
              "      <th>5</th>\n",
              "      <td>TrafficType</td>\n",
              "      <td>0.003597</td>\n",
              "    </tr>\n",
              "    <tr>\n",
              "      <th>6</th>\n",
              "      <td>Informational_Duration</td>\n",
              "      <td>0.003233</td>\n",
              "    </tr>\n",
              "    <tr>\n",
              "      <th>7</th>\n",
              "      <td>BounceRates</td>\n",
              "      <td>0.002492</td>\n",
              "    </tr>\n",
              "    <tr>\n",
              "      <th>8</th>\n",
              "      <td>ExitRates</td>\n",
              "      <td>0.001917</td>\n",
              "    </tr>\n",
              "    <tr>\n",
              "      <th>9</th>\n",
              "      <td>Administrative_Duration</td>\n",
              "      <td>0.001612</td>\n",
              "    </tr>\n",
              "    <tr>\n",
              "      <th>10</th>\n",
              "      <td>ProductRelated_Duration</td>\n",
              "      <td>0.000875</td>\n",
              "    </tr>\n",
              "    <tr>\n",
              "      <th>11</th>\n",
              "      <td>VisitorType</td>\n",
              "      <td>0.000463</td>\n",
              "    </tr>\n",
              "  </tbody>\n",
              "</table>\n",
              "</div>"
            ],
            "text/plain": [
              "                   Features  Gini-Importance\n",
              "0          OperatingSystems         0.038819\n",
              "1                SpecialDay         0.013971\n",
              "2                     Month         0.010756\n",
              "3                PageValues         0.009644\n",
              "4                    Region         0.003647\n",
              "5               TrafficType         0.003597\n",
              "6    Informational_Duration         0.003233\n",
              "7               BounceRates         0.002492\n",
              "8                 ExitRates         0.001917\n",
              "9   Administrative_Duration         0.001612\n",
              "10  ProductRelated_Duration         0.000875\n",
              "11              VisitorType         0.000463"
            ]
          },
          "metadata": {},
          "output_type": "display_data"
        }
      ],
      "source": [
        "#ради интереса посмотрим на самые важные признаки для RandomForestClassifier через метрику Gini\n",
        "rfc = RandomForestClassifier(random_state = RANDOM_STATE, n_estimators = 100, criterion = 'gini',max_depth = 8, class_weight = {0: 0.2, 1: 1})\n",
        "rfc.fit(X_train_transformed, y_train)\n",
        "\n",
        "feats = {}\n",
        "for feature, importance in zip(X_full.columns, rfc.feature_importances_):\n",
        "    feats[feature] = importance\n",
        "importances = pd.DataFrame.from_dict(feats, orient='index').rename(columns={0: 'Gini-Importance'})\n",
        "importances = importances.sort_values(by='Gini-Importance', ascending=False)\n",
        "importances = importances.reset_index()\n",
        "importances = importances.rename(columns={'index': 'Features'})\n",
        "sns.set(font_scale = 5)\n",
        "sns.set(style=\"whitegrid\", color_codes=True, font_scale = 1.7)\n",
        "fig, ax = plt.subplots()\n",
        "fig.set_size_inches(30,15)\n",
        "sns.barplot(x=importances['Gini-Importance'], y=importances['Features'], data=importances, color='skyblue')\n",
        "plt.xlabel('Importance', fontsize=25, weight = 'bold')\n",
        "plt.ylabel('Features', fontsize=25, weight = 'bold')\n",
        "plt.title('Feature Importance', fontsize=25, weight = 'bold')\n",
        "display(plt.show())\n",
        "display(importances)"
      ]
    },
    {
      "cell_type": "markdown",
      "metadata": {
        "id": "o4WeBRvTwdbb"
      },
      "source": [
        "## Предварительный вывод\n",
        "- RandomForestClassifier показывает лучшие результаты метрики accuracy на тестовых значениях чем KNeighborsClassifier (0.900 и 0.861 соответсвенно)\n",
        "- добавление параметра class_weight для RFC (балансировка классов) ухудшило метрику accuracy, но confusion_matrix показало уменьшение ложных определений положительного класса(тех кто сделает покупку) и увеличение правильных угадываний тех, кто ничего не купит\n",
        "- с учетом категориальных значений и масштабировании числовых признаков accuracy на тестовых значениях чуть снизился (0.897 для RFC и 0.856 для KNC)\n",
        "- после учета категориальных значений и нормализации числовых значений поменялись признаки влияющие на результат RFC с точки зрения параметра Gini (основынм влияющим признаком был PageValues, стал OperatingSystems)"
      ]
    },
    {
      "cell_type": "markdown",
      "metadata": {
        "id": "hT3mymaDv7M7"
      },
      "source": [
        "# Итоговый Pipeline\n",
        "- в учебных целях будем использовать модель с учетом категориальных признаков, будем считать что для бизнеса оказалось важнее определение потенциально неготовых совершить покупку людей, даже если прогнозы будут ошибочными и уменьшение ложных определений людей готовых к покупке"
      ]
    },
    {
      "cell_type": "code",
      "execution_count": 199,
      "metadata": {
        "id": "ACnHYlRQwo2w"
      },
      "outputs": [
        {
          "data": {
            "text/html": [
              "<style>#sk-container-id-60 {color: black;}#sk-container-id-60 pre{padding: 0;}#sk-container-id-60 div.sk-toggleable {background-color: white;}#sk-container-id-60 label.sk-toggleable__label {cursor: pointer;display: block;width: 100%;margin-bottom: 0;padding: 0.3em;box-sizing: border-box;text-align: center;}#sk-container-id-60 label.sk-toggleable__label-arrow:before {content: \"▸\";float: left;margin-right: 0.25em;color: #696969;}#sk-container-id-60 label.sk-toggleable__label-arrow:hover:before {color: black;}#sk-container-id-60 div.sk-estimator:hover label.sk-toggleable__label-arrow:before {color: black;}#sk-container-id-60 div.sk-toggleable__content {max-height: 0;max-width: 0;overflow: hidden;text-align: left;background-color: #f0f8ff;}#sk-container-id-60 div.sk-toggleable__content pre {margin: 0.2em;color: black;border-radius: 0.25em;background-color: #f0f8ff;}#sk-container-id-60 input.sk-toggleable__control:checked~div.sk-toggleable__content {max-height: 200px;max-width: 100%;overflow: auto;}#sk-container-id-60 input.sk-toggleable__control:checked~label.sk-toggleable__label-arrow:before {content: \"▾\";}#sk-container-id-60 div.sk-estimator input.sk-toggleable__control:checked~label.sk-toggleable__label {background-color: #d4ebff;}#sk-container-id-60 div.sk-label input.sk-toggleable__control:checked~label.sk-toggleable__label {background-color: #d4ebff;}#sk-container-id-60 input.sk-hidden--visually {border: 0;clip: rect(1px 1px 1px 1px);clip: rect(1px, 1px, 1px, 1px);height: 1px;margin: -1px;overflow: hidden;padding: 0;position: absolute;width: 1px;}#sk-container-id-60 div.sk-estimator {font-family: monospace;background-color: #f0f8ff;border: 1px dotted black;border-radius: 0.25em;box-sizing: border-box;margin-bottom: 0.5em;}#sk-container-id-60 div.sk-estimator:hover {background-color: #d4ebff;}#sk-container-id-60 div.sk-parallel-item::after {content: \"\";width: 100%;border-bottom: 1px solid gray;flex-grow: 1;}#sk-container-id-60 div.sk-label:hover label.sk-toggleable__label {background-color: #d4ebff;}#sk-container-id-60 div.sk-serial::before {content: \"\";position: absolute;border-left: 1px solid gray;box-sizing: border-box;top: 0;bottom: 0;left: 50%;z-index: 0;}#sk-container-id-60 div.sk-serial {display: flex;flex-direction: column;align-items: center;background-color: white;padding-right: 0.2em;padding-left: 0.2em;position: relative;}#sk-container-id-60 div.sk-item {position: relative;z-index: 1;}#sk-container-id-60 div.sk-parallel {display: flex;align-items: stretch;justify-content: center;background-color: white;position: relative;}#sk-container-id-60 div.sk-item::before, #sk-container-id-60 div.sk-parallel-item::before {content: \"\";position: absolute;border-left: 1px solid gray;box-sizing: border-box;top: 0;bottom: 0;left: 50%;z-index: -1;}#sk-container-id-60 div.sk-parallel-item {display: flex;flex-direction: column;z-index: 1;position: relative;background-color: white;}#sk-container-id-60 div.sk-parallel-item:first-child::after {align-self: flex-end;width: 50%;}#sk-container-id-60 div.sk-parallel-item:last-child::after {align-self: flex-start;width: 50%;}#sk-container-id-60 div.sk-parallel-item:only-child::after {width: 0;}#sk-container-id-60 div.sk-dashed-wrapped {border: 1px dashed gray;margin: 0 0.4em 0.5em 0.4em;box-sizing: border-box;padding-bottom: 0.4em;background-color: white;}#sk-container-id-60 div.sk-label label {font-family: monospace;font-weight: bold;display: inline-block;line-height: 1.2em;}#sk-container-id-60 div.sk-label-container {text-align: center;}#sk-container-id-60 div.sk-container {/* jupyter's `normalize.less` sets `[hidden] { display: none; }` but bootstrap.min.css set `[hidden] { display: none !important; }` so we also need the `!important` here to be able to override the default hidden behavior on the sphinx rendered scikit-learn.org. See: https://github.com/scikit-learn/scikit-learn/issues/21755 */display: inline-block !important;position: relative;}#sk-container-id-60 div.sk-text-repr-fallback {display: none;}</style><div id=\"sk-container-id-60\" class=\"sk-top-container\"><div class=\"sk-text-repr-fallback\"><pre>Pipeline(steps=[(&#x27;transformer&#x27;,\n",
              "                 ColumnTransformer(transformers=[(&#x27;ohe&#x27;,\n",
              "                                                  OneHotEncoder(handle_unknown=&#x27;ignore&#x27;),\n",
              "                                                  [&#x27;Month&#x27;, &#x27;VisitorType&#x27;]),\n",
              "                                                 (&#x27;scaling&#x27;, MinMaxScaler(),\n",
              "                                                  [&#x27;Administrative_Duration&#x27;,\n",
              "                                                   &#x27;Informational_Duration&#x27;,\n",
              "                                                   &#x27;ProductRelated_Duration&#x27;,\n",
              "                                                   &#x27;BounceRates&#x27;, &#x27;ExitRates&#x27;,\n",
              "                                                   &#x27;PageValues&#x27;, &#x27;SpecialDay&#x27;,\n",
              "                                                   &#x27;OperatingSystems&#x27;, &#x27;Region&#x27;,\n",
              "                                                   &#x27;TrafficType&#x27;])])),\n",
              "                (&#x27;model&#x27;,\n",
              "                 RandomForestClassifier(class_weight={0: 0.2, 1: 1},\n",
              "                                        random_state=12345))])</pre><b>In a Jupyter environment, please rerun this cell to show the HTML representation or trust the notebook. <br />On GitHub, the HTML representation is unable to render, please try loading this page with nbviewer.org.</b></div><div class=\"sk-container\" hidden><div class=\"sk-item sk-dashed-wrapped\"><div class=\"sk-label-container\"><div class=\"sk-label sk-toggleable\"><input class=\"sk-toggleable__control sk-hidden--visually\" id=\"sk-estimator-id-204\" type=\"checkbox\" ><label for=\"sk-estimator-id-204\" class=\"sk-toggleable__label sk-toggleable__label-arrow\">Pipeline</label><div class=\"sk-toggleable__content\"><pre>Pipeline(steps=[(&#x27;transformer&#x27;,\n",
              "                 ColumnTransformer(transformers=[(&#x27;ohe&#x27;,\n",
              "                                                  OneHotEncoder(handle_unknown=&#x27;ignore&#x27;),\n",
              "                                                  [&#x27;Month&#x27;, &#x27;VisitorType&#x27;]),\n",
              "                                                 (&#x27;scaling&#x27;, MinMaxScaler(),\n",
              "                                                  [&#x27;Administrative_Duration&#x27;,\n",
              "                                                   &#x27;Informational_Duration&#x27;,\n",
              "                                                   &#x27;ProductRelated_Duration&#x27;,\n",
              "                                                   &#x27;BounceRates&#x27;, &#x27;ExitRates&#x27;,\n",
              "                                                   &#x27;PageValues&#x27;, &#x27;SpecialDay&#x27;,\n",
              "                                                   &#x27;OperatingSystems&#x27;, &#x27;Region&#x27;,\n",
              "                                                   &#x27;TrafficType&#x27;])])),\n",
              "                (&#x27;model&#x27;,\n",
              "                 RandomForestClassifier(class_weight={0: 0.2, 1: 1},\n",
              "                                        random_state=12345))])</pre></div></div></div><div class=\"sk-serial\"><div class=\"sk-item sk-dashed-wrapped\"><div class=\"sk-label-container\"><div class=\"sk-label sk-toggleable\"><input class=\"sk-toggleable__control sk-hidden--visually\" id=\"sk-estimator-id-205\" type=\"checkbox\" ><label for=\"sk-estimator-id-205\" class=\"sk-toggleable__label sk-toggleable__label-arrow\">transformer: ColumnTransformer</label><div class=\"sk-toggleable__content\"><pre>ColumnTransformer(transformers=[(&#x27;ohe&#x27;, OneHotEncoder(handle_unknown=&#x27;ignore&#x27;),\n",
              "                                 [&#x27;Month&#x27;, &#x27;VisitorType&#x27;]),\n",
              "                                (&#x27;scaling&#x27;, MinMaxScaler(),\n",
              "                                 [&#x27;Administrative_Duration&#x27;,\n",
              "                                  &#x27;Informational_Duration&#x27;,\n",
              "                                  &#x27;ProductRelated_Duration&#x27;, &#x27;BounceRates&#x27;,\n",
              "                                  &#x27;ExitRates&#x27;, &#x27;PageValues&#x27;, &#x27;SpecialDay&#x27;,\n",
              "                                  &#x27;OperatingSystems&#x27;, &#x27;Region&#x27;,\n",
              "                                  &#x27;TrafficType&#x27;])])</pre></div></div></div><div class=\"sk-parallel\"><div class=\"sk-parallel-item\"><div class=\"sk-item\"><div class=\"sk-label-container\"><div class=\"sk-label sk-toggleable\"><input class=\"sk-toggleable__control sk-hidden--visually\" id=\"sk-estimator-id-206\" type=\"checkbox\" ><label for=\"sk-estimator-id-206\" class=\"sk-toggleable__label sk-toggleable__label-arrow\">ohe</label><div class=\"sk-toggleable__content\"><pre>[&#x27;Month&#x27;, &#x27;VisitorType&#x27;]</pre></div></div></div><div class=\"sk-serial\"><div class=\"sk-item\"><div class=\"sk-estimator sk-toggleable\"><input class=\"sk-toggleable__control sk-hidden--visually\" id=\"sk-estimator-id-207\" type=\"checkbox\" ><label for=\"sk-estimator-id-207\" class=\"sk-toggleable__label sk-toggleable__label-arrow\">OneHotEncoder</label><div class=\"sk-toggleable__content\"><pre>OneHotEncoder(handle_unknown=&#x27;ignore&#x27;)</pre></div></div></div></div></div></div><div class=\"sk-parallel-item\"><div class=\"sk-item\"><div class=\"sk-label-container\"><div class=\"sk-label sk-toggleable\"><input class=\"sk-toggleable__control sk-hidden--visually\" id=\"sk-estimator-id-208\" type=\"checkbox\" ><label for=\"sk-estimator-id-208\" class=\"sk-toggleable__label sk-toggleable__label-arrow\">scaling</label><div class=\"sk-toggleable__content\"><pre>[&#x27;Administrative_Duration&#x27;, &#x27;Informational_Duration&#x27;, &#x27;ProductRelated_Duration&#x27;, &#x27;BounceRates&#x27;, &#x27;ExitRates&#x27;, &#x27;PageValues&#x27;, &#x27;SpecialDay&#x27;, &#x27;OperatingSystems&#x27;, &#x27;Region&#x27;, &#x27;TrafficType&#x27;]</pre></div></div></div><div class=\"sk-serial\"><div class=\"sk-item\"><div class=\"sk-estimator sk-toggleable\"><input class=\"sk-toggleable__control sk-hidden--visually\" id=\"sk-estimator-id-209\" type=\"checkbox\" ><label for=\"sk-estimator-id-209\" class=\"sk-toggleable__label sk-toggleable__label-arrow\">MinMaxScaler</label><div class=\"sk-toggleable__content\"><pre>MinMaxScaler()</pre></div></div></div></div></div></div></div></div><div class=\"sk-item\"><div class=\"sk-estimator sk-toggleable\"><input class=\"sk-toggleable__control sk-hidden--visually\" id=\"sk-estimator-id-210\" type=\"checkbox\" ><label for=\"sk-estimator-id-210\" class=\"sk-toggleable__label sk-toggleable__label-arrow\">RandomForestClassifier</label><div class=\"sk-toggleable__content\"><pre>RandomForestClassifier(class_weight={0: 0.2, 1: 1}, random_state=12345)</pre></div></div></div></div></div></div></div>"
            ],
            "text/plain": [
              "Pipeline(steps=[('transformer',\n",
              "                 ColumnTransformer(transformers=[('ohe',\n",
              "                                                  OneHotEncoder(handle_unknown='ignore'),\n",
              "                                                  ['Month', 'VisitorType']),\n",
              "                                                 ('scaling', MinMaxScaler(),\n",
              "                                                  ['Administrative_Duration',\n",
              "                                                   'Informational_Duration',\n",
              "                                                   'ProductRelated_Duration',\n",
              "                                                   'BounceRates', 'ExitRates',\n",
              "                                                   'PageValues', 'SpecialDay',\n",
              "                                                   'OperatingSystems', 'Region',\n",
              "                                                   'TrafficType'])])),\n",
              "                ('model',\n",
              "                 RandomForestClassifier(class_weight={0: 0.2, 1: 1},\n",
              "                                        random_state=12345))])"
            ]
          },
          "execution_count": 199,
          "metadata": {},
          "output_type": "execute_result"
        }
      ],
      "source": [
        "pipe = Pipeline([\n",
        "    ('transformer', ct), # преобразование данных    \n",
        "    # ('selector', SelectKBest()), # оставляем самые важные признаки,\n",
        "    ('model', RandomForestClassifier(random_state = RANDOM_STATE, class_weight = {0: 0.2, 1: 1})) # обучение модели\n",
        "    ])\n",
        "\n",
        "pipe.fit(X_train_full, y_train)\n",
        "\n",
        "pred_pipe = pipe.predict(X_test_full)\n"
      ]
    },
    {
      "cell_type": "code",
      "execution_count": 200,
      "metadata": {},
      "outputs": [
        {
          "name": "stdout",
          "output_type": "stream",
          "text": [
            "0.897404703974047\n",
            "[[1995   67]\n",
            " [ 186  218]]\n"
          ]
        }
      ],
      "source": [
        "print(accuracy_score(y_test, pred_pipe))\n",
        "print(confusion_matrix(y_test, pred_pipe))"
      ]
    },
    {
      "cell_type": "code",
      "execution_count": 201,
      "metadata": {
        "id": "q8Prrs_KG9aA"
      },
      "outputs": [
        {
          "name": "stdout",
          "output_type": "stream",
          "text": [
            "Fitting 3 folds for each of 48 candidates, totalling 144 fits\n"
          ]
        },
        {
          "data": {
            "text/html": [
              "<style>#sk-container-id-61 {color: black;}#sk-container-id-61 pre{padding: 0;}#sk-container-id-61 div.sk-toggleable {background-color: white;}#sk-container-id-61 label.sk-toggleable__label {cursor: pointer;display: block;width: 100%;margin-bottom: 0;padding: 0.3em;box-sizing: border-box;text-align: center;}#sk-container-id-61 label.sk-toggleable__label-arrow:before {content: \"▸\";float: left;margin-right: 0.25em;color: #696969;}#sk-container-id-61 label.sk-toggleable__label-arrow:hover:before {color: black;}#sk-container-id-61 div.sk-estimator:hover label.sk-toggleable__label-arrow:before {color: black;}#sk-container-id-61 div.sk-toggleable__content {max-height: 0;max-width: 0;overflow: hidden;text-align: left;background-color: #f0f8ff;}#sk-container-id-61 div.sk-toggleable__content pre {margin: 0.2em;color: black;border-radius: 0.25em;background-color: #f0f8ff;}#sk-container-id-61 input.sk-toggleable__control:checked~div.sk-toggleable__content {max-height: 200px;max-width: 100%;overflow: auto;}#sk-container-id-61 input.sk-toggleable__control:checked~label.sk-toggleable__label-arrow:before {content: \"▾\";}#sk-container-id-61 div.sk-estimator input.sk-toggleable__control:checked~label.sk-toggleable__label {background-color: #d4ebff;}#sk-container-id-61 div.sk-label input.sk-toggleable__control:checked~label.sk-toggleable__label {background-color: #d4ebff;}#sk-container-id-61 input.sk-hidden--visually {border: 0;clip: rect(1px 1px 1px 1px);clip: rect(1px, 1px, 1px, 1px);height: 1px;margin: -1px;overflow: hidden;padding: 0;position: absolute;width: 1px;}#sk-container-id-61 div.sk-estimator {font-family: monospace;background-color: #f0f8ff;border: 1px dotted black;border-radius: 0.25em;box-sizing: border-box;margin-bottom: 0.5em;}#sk-container-id-61 div.sk-estimator:hover {background-color: #d4ebff;}#sk-container-id-61 div.sk-parallel-item::after {content: \"\";width: 100%;border-bottom: 1px solid gray;flex-grow: 1;}#sk-container-id-61 div.sk-label:hover label.sk-toggleable__label {background-color: #d4ebff;}#sk-container-id-61 div.sk-serial::before {content: \"\";position: absolute;border-left: 1px solid gray;box-sizing: border-box;top: 0;bottom: 0;left: 50%;z-index: 0;}#sk-container-id-61 div.sk-serial {display: flex;flex-direction: column;align-items: center;background-color: white;padding-right: 0.2em;padding-left: 0.2em;position: relative;}#sk-container-id-61 div.sk-item {position: relative;z-index: 1;}#sk-container-id-61 div.sk-parallel {display: flex;align-items: stretch;justify-content: center;background-color: white;position: relative;}#sk-container-id-61 div.sk-item::before, #sk-container-id-61 div.sk-parallel-item::before {content: \"\";position: absolute;border-left: 1px solid gray;box-sizing: border-box;top: 0;bottom: 0;left: 50%;z-index: -1;}#sk-container-id-61 div.sk-parallel-item {display: flex;flex-direction: column;z-index: 1;position: relative;background-color: white;}#sk-container-id-61 div.sk-parallel-item:first-child::after {align-self: flex-end;width: 50%;}#sk-container-id-61 div.sk-parallel-item:last-child::after {align-self: flex-start;width: 50%;}#sk-container-id-61 div.sk-parallel-item:only-child::after {width: 0;}#sk-container-id-61 div.sk-dashed-wrapped {border: 1px dashed gray;margin: 0 0.4em 0.5em 0.4em;box-sizing: border-box;padding-bottom: 0.4em;background-color: white;}#sk-container-id-61 div.sk-label label {font-family: monospace;font-weight: bold;display: inline-block;line-height: 1.2em;}#sk-container-id-61 div.sk-label-container {text-align: center;}#sk-container-id-61 div.sk-container {/* jupyter's `normalize.less` sets `[hidden] { display: none; }` but bootstrap.min.css set `[hidden] { display: none !important; }` so we also need the `!important` here to be able to override the default hidden behavior on the sphinx rendered scikit-learn.org. See: https://github.com/scikit-learn/scikit-learn/issues/21755 */display: inline-block !important;position: relative;}#sk-container-id-61 div.sk-text-repr-fallback {display: none;}</style><div id=\"sk-container-id-61\" class=\"sk-top-container\"><div class=\"sk-text-repr-fallback\"><pre>GridSearchCV(cv=3,\n",
              "             estimator=Pipeline(steps=[(&#x27;transformer&#x27;,\n",
              "                                        ColumnTransformer(transformers=[(&#x27;ohe&#x27;,\n",
              "                                                                         OneHotEncoder(handle_unknown=&#x27;ignore&#x27;),\n",
              "                                                                         [&#x27;Month&#x27;,\n",
              "                                                                          &#x27;VisitorType&#x27;]),\n",
              "                                                                        (&#x27;scaling&#x27;,\n",
              "                                                                         MinMaxScaler(),\n",
              "                                                                         [&#x27;Administrative_Duration&#x27;,\n",
              "                                                                          &#x27;Informational_Duration&#x27;,\n",
              "                                                                          &#x27;ProductRelated_Duration&#x27;,\n",
              "                                                                          &#x27;BounceRates&#x27;,\n",
              "                                                                          &#x27;ExitRates&#x27;,\n",
              "                                                                          &#x27;PageValues&#x27;,\n",
              "                                                                          &#x27;SpecialDay&#x27;,\n",
              "                                                                          &#x27;OperatingSystems&#x27;,\n",
              "                                                                          &#x27;Region&#x27;,\n",
              "                                                                          &#x27;TrafficType&#x27;])])),\n",
              "                                       (&#x27;model&#x27;,\n",
              "                                        RandomForestClassifier(class_weight={0: 0.2,\n",
              "                                                                             1: 1},\n",
              "                                                               random_state=12345))]),\n",
              "             n_jobs=-1,\n",
              "             param_grid={&#x27;model__criterion&#x27;: [&#x27;gini&#x27;, &#x27;entropy&#x27;, &#x27;log_loss&#x27;],\n",
              "                         &#x27;model__max_depth&#x27;: array([2, 4, 6, 8]),\n",
              "                         &#x27;model__n_estimators&#x27;: array([100, 150, 200, 250])},\n",
              "             scoring=&#x27;accuracy&#x27;, verbose=2)</pre><b>In a Jupyter environment, please rerun this cell to show the HTML representation or trust the notebook. <br />On GitHub, the HTML representation is unable to render, please try loading this page with nbviewer.org.</b></div><div class=\"sk-container\" hidden><div class=\"sk-item sk-dashed-wrapped\"><div class=\"sk-label-container\"><div class=\"sk-label sk-toggleable\"><input class=\"sk-toggleable__control sk-hidden--visually\" id=\"sk-estimator-id-211\" type=\"checkbox\" ><label for=\"sk-estimator-id-211\" class=\"sk-toggleable__label sk-toggleable__label-arrow\">GridSearchCV</label><div class=\"sk-toggleable__content\"><pre>GridSearchCV(cv=3,\n",
              "             estimator=Pipeline(steps=[(&#x27;transformer&#x27;,\n",
              "                                        ColumnTransformer(transformers=[(&#x27;ohe&#x27;,\n",
              "                                                                         OneHotEncoder(handle_unknown=&#x27;ignore&#x27;),\n",
              "                                                                         [&#x27;Month&#x27;,\n",
              "                                                                          &#x27;VisitorType&#x27;]),\n",
              "                                                                        (&#x27;scaling&#x27;,\n",
              "                                                                         MinMaxScaler(),\n",
              "                                                                         [&#x27;Administrative_Duration&#x27;,\n",
              "                                                                          &#x27;Informational_Duration&#x27;,\n",
              "                                                                          &#x27;ProductRelated_Duration&#x27;,\n",
              "                                                                          &#x27;BounceRates&#x27;,\n",
              "                                                                          &#x27;ExitRates&#x27;,\n",
              "                                                                          &#x27;PageValues&#x27;,\n",
              "                                                                          &#x27;SpecialDay&#x27;,\n",
              "                                                                          &#x27;OperatingSystems&#x27;,\n",
              "                                                                          &#x27;Region&#x27;,\n",
              "                                                                          &#x27;TrafficType&#x27;])])),\n",
              "                                       (&#x27;model&#x27;,\n",
              "                                        RandomForestClassifier(class_weight={0: 0.2,\n",
              "                                                                             1: 1},\n",
              "                                                               random_state=12345))]),\n",
              "             n_jobs=-1,\n",
              "             param_grid={&#x27;model__criterion&#x27;: [&#x27;gini&#x27;, &#x27;entropy&#x27;, &#x27;log_loss&#x27;],\n",
              "                         &#x27;model__max_depth&#x27;: array([2, 4, 6, 8]),\n",
              "                         &#x27;model__n_estimators&#x27;: array([100, 150, 200, 250])},\n",
              "             scoring=&#x27;accuracy&#x27;, verbose=2)</pre></div></div></div><div class=\"sk-parallel\"><div class=\"sk-parallel-item\"><div class=\"sk-item\"><div class=\"sk-label-container\"><div class=\"sk-label sk-toggleable\"><input class=\"sk-toggleable__control sk-hidden--visually\" id=\"sk-estimator-id-212\" type=\"checkbox\" ><label for=\"sk-estimator-id-212\" class=\"sk-toggleable__label sk-toggleable__label-arrow\">estimator: Pipeline</label><div class=\"sk-toggleable__content\"><pre>Pipeline(steps=[(&#x27;transformer&#x27;,\n",
              "                 ColumnTransformer(transformers=[(&#x27;ohe&#x27;,\n",
              "                                                  OneHotEncoder(handle_unknown=&#x27;ignore&#x27;),\n",
              "                                                  [&#x27;Month&#x27;, &#x27;VisitorType&#x27;]),\n",
              "                                                 (&#x27;scaling&#x27;, MinMaxScaler(),\n",
              "                                                  [&#x27;Administrative_Duration&#x27;,\n",
              "                                                   &#x27;Informational_Duration&#x27;,\n",
              "                                                   &#x27;ProductRelated_Duration&#x27;,\n",
              "                                                   &#x27;BounceRates&#x27;, &#x27;ExitRates&#x27;,\n",
              "                                                   &#x27;PageValues&#x27;, &#x27;SpecialDay&#x27;,\n",
              "                                                   &#x27;OperatingSystems&#x27;, &#x27;Region&#x27;,\n",
              "                                                   &#x27;TrafficType&#x27;])])),\n",
              "                (&#x27;model&#x27;,\n",
              "                 RandomForestClassifier(class_weight={0: 0.2, 1: 1},\n",
              "                                        random_state=12345))])</pre></div></div></div><div class=\"sk-serial\"><div class=\"sk-item\"><div class=\"sk-serial\"><div class=\"sk-item sk-dashed-wrapped\"><div class=\"sk-label-container\"><div class=\"sk-label sk-toggleable\"><input class=\"sk-toggleable__control sk-hidden--visually\" id=\"sk-estimator-id-213\" type=\"checkbox\" ><label for=\"sk-estimator-id-213\" class=\"sk-toggleable__label sk-toggleable__label-arrow\">transformer: ColumnTransformer</label><div class=\"sk-toggleable__content\"><pre>ColumnTransformer(transformers=[(&#x27;ohe&#x27;, OneHotEncoder(handle_unknown=&#x27;ignore&#x27;),\n",
              "                                 [&#x27;Month&#x27;, &#x27;VisitorType&#x27;]),\n",
              "                                (&#x27;scaling&#x27;, MinMaxScaler(),\n",
              "                                 [&#x27;Administrative_Duration&#x27;,\n",
              "                                  &#x27;Informational_Duration&#x27;,\n",
              "                                  &#x27;ProductRelated_Duration&#x27;, &#x27;BounceRates&#x27;,\n",
              "                                  &#x27;ExitRates&#x27;, &#x27;PageValues&#x27;, &#x27;SpecialDay&#x27;,\n",
              "                                  &#x27;OperatingSystems&#x27;, &#x27;Region&#x27;,\n",
              "                                  &#x27;TrafficType&#x27;])])</pre></div></div></div><div class=\"sk-parallel\"><div class=\"sk-parallel-item\"><div class=\"sk-item\"><div class=\"sk-label-container\"><div class=\"sk-label sk-toggleable\"><input class=\"sk-toggleable__control sk-hidden--visually\" id=\"sk-estimator-id-214\" type=\"checkbox\" ><label for=\"sk-estimator-id-214\" class=\"sk-toggleable__label sk-toggleable__label-arrow\">ohe</label><div class=\"sk-toggleable__content\"><pre>[&#x27;Month&#x27;, &#x27;VisitorType&#x27;]</pre></div></div></div><div class=\"sk-serial\"><div class=\"sk-item\"><div class=\"sk-estimator sk-toggleable\"><input class=\"sk-toggleable__control sk-hidden--visually\" id=\"sk-estimator-id-215\" type=\"checkbox\" ><label for=\"sk-estimator-id-215\" class=\"sk-toggleable__label sk-toggleable__label-arrow\">OneHotEncoder</label><div class=\"sk-toggleable__content\"><pre>OneHotEncoder(handle_unknown=&#x27;ignore&#x27;)</pre></div></div></div></div></div></div><div class=\"sk-parallel-item\"><div class=\"sk-item\"><div class=\"sk-label-container\"><div class=\"sk-label sk-toggleable\"><input class=\"sk-toggleable__control sk-hidden--visually\" id=\"sk-estimator-id-216\" type=\"checkbox\" ><label for=\"sk-estimator-id-216\" class=\"sk-toggleable__label sk-toggleable__label-arrow\">scaling</label><div class=\"sk-toggleable__content\"><pre>[&#x27;Administrative_Duration&#x27;, &#x27;Informational_Duration&#x27;, &#x27;ProductRelated_Duration&#x27;, &#x27;BounceRates&#x27;, &#x27;ExitRates&#x27;, &#x27;PageValues&#x27;, &#x27;SpecialDay&#x27;, &#x27;OperatingSystems&#x27;, &#x27;Region&#x27;, &#x27;TrafficType&#x27;]</pre></div></div></div><div class=\"sk-serial\"><div class=\"sk-item\"><div class=\"sk-estimator sk-toggleable\"><input class=\"sk-toggleable__control sk-hidden--visually\" id=\"sk-estimator-id-217\" type=\"checkbox\" ><label for=\"sk-estimator-id-217\" class=\"sk-toggleable__label sk-toggleable__label-arrow\">MinMaxScaler</label><div class=\"sk-toggleable__content\"><pre>MinMaxScaler()</pre></div></div></div></div></div></div></div></div><div class=\"sk-item\"><div class=\"sk-estimator sk-toggleable\"><input class=\"sk-toggleable__control sk-hidden--visually\" id=\"sk-estimator-id-218\" type=\"checkbox\" ><label for=\"sk-estimator-id-218\" class=\"sk-toggleable__label sk-toggleable__label-arrow\">RandomForestClassifier</label><div class=\"sk-toggleable__content\"><pre>RandomForestClassifier(class_weight={0: 0.2, 1: 1}, random_state=12345)</pre></div></div></div></div></div></div></div></div></div></div></div></div>"
            ],
            "text/plain": [
              "GridSearchCV(cv=3,\n",
              "             estimator=Pipeline(steps=[('transformer',\n",
              "                                        ColumnTransformer(transformers=[('ohe',\n",
              "                                                                         OneHotEncoder(handle_unknown='ignore'),\n",
              "                                                                         ['Month',\n",
              "                                                                          'VisitorType']),\n",
              "                                                                        ('scaling',\n",
              "                                                                         MinMaxScaler(),\n",
              "                                                                         ['Administrative_Duration',\n",
              "                                                                          'Informational_Duration',\n",
              "                                                                          'ProductRelated_Duration',\n",
              "                                                                          'BounceRates',\n",
              "                                                                          'ExitRates',\n",
              "                                                                          'PageValues',\n",
              "                                                                          'SpecialDay',\n",
              "                                                                          'OperatingSystems',\n",
              "                                                                          'Region',\n",
              "                                                                          'TrafficType'])])),\n",
              "                                       ('model',\n",
              "                                        RandomForestClassifier(class_weight={0: 0.2,\n",
              "                                                                             1: 1},\n",
              "                                                               random_state=12345))]),\n",
              "             n_jobs=-1,\n",
              "             param_grid={'model__criterion': ['gini', 'entropy', 'log_loss'],\n",
              "                         'model__max_depth': array([2, 4, 6, 8]),\n",
              "                         'model__n_estimators': array([100, 150, 200, 250])},\n",
              "             scoring='accuracy', verbose=2)"
            ]
          },
          "execution_count": 201,
          "metadata": {},
          "output_type": "execute_result"
        }
      ],
      "source": [
        "params = {#'selector__k' : [2,3,4],\n",
        "          'model__n_estimators' : np.arange(100, 300, 50),\n",
        "          'model__criterion' : ['gini', 'entropy', 'log_loss'],\n",
        "          'model__max_depth': np.arange(2, 10, 2)}\n",
        "\n",
        "gs = GridSearchCV(pipe, params, scoring='accuracy', cv=3, n_jobs=-1, verbose=2)\n",
        "gs.fit(X_train_full, y_train)"
      ]
    },
    {
      "cell_type": "code",
      "execution_count": 202,
      "metadata": {
        "id": "CkD52m_gO8gZ"
      },
      "outputs": [
        {
          "data": {
            "text/html": [
              "<style>#sk-container-id-62 {color: black;}#sk-container-id-62 pre{padding: 0;}#sk-container-id-62 div.sk-toggleable {background-color: white;}#sk-container-id-62 label.sk-toggleable__label {cursor: pointer;display: block;width: 100%;margin-bottom: 0;padding: 0.3em;box-sizing: border-box;text-align: center;}#sk-container-id-62 label.sk-toggleable__label-arrow:before {content: \"▸\";float: left;margin-right: 0.25em;color: #696969;}#sk-container-id-62 label.sk-toggleable__label-arrow:hover:before {color: black;}#sk-container-id-62 div.sk-estimator:hover label.sk-toggleable__label-arrow:before {color: black;}#sk-container-id-62 div.sk-toggleable__content {max-height: 0;max-width: 0;overflow: hidden;text-align: left;background-color: #f0f8ff;}#sk-container-id-62 div.sk-toggleable__content pre {margin: 0.2em;color: black;border-radius: 0.25em;background-color: #f0f8ff;}#sk-container-id-62 input.sk-toggleable__control:checked~div.sk-toggleable__content {max-height: 200px;max-width: 100%;overflow: auto;}#sk-container-id-62 input.sk-toggleable__control:checked~label.sk-toggleable__label-arrow:before {content: \"▾\";}#sk-container-id-62 div.sk-estimator input.sk-toggleable__control:checked~label.sk-toggleable__label {background-color: #d4ebff;}#sk-container-id-62 div.sk-label input.sk-toggleable__control:checked~label.sk-toggleable__label {background-color: #d4ebff;}#sk-container-id-62 input.sk-hidden--visually {border: 0;clip: rect(1px 1px 1px 1px);clip: rect(1px, 1px, 1px, 1px);height: 1px;margin: -1px;overflow: hidden;padding: 0;position: absolute;width: 1px;}#sk-container-id-62 div.sk-estimator {font-family: monospace;background-color: #f0f8ff;border: 1px dotted black;border-radius: 0.25em;box-sizing: border-box;margin-bottom: 0.5em;}#sk-container-id-62 div.sk-estimator:hover {background-color: #d4ebff;}#sk-container-id-62 div.sk-parallel-item::after {content: \"\";width: 100%;border-bottom: 1px solid gray;flex-grow: 1;}#sk-container-id-62 div.sk-label:hover label.sk-toggleable__label {background-color: #d4ebff;}#sk-container-id-62 div.sk-serial::before {content: \"\";position: absolute;border-left: 1px solid gray;box-sizing: border-box;top: 0;bottom: 0;left: 50%;z-index: 0;}#sk-container-id-62 div.sk-serial {display: flex;flex-direction: column;align-items: center;background-color: white;padding-right: 0.2em;padding-left: 0.2em;position: relative;}#sk-container-id-62 div.sk-item {position: relative;z-index: 1;}#sk-container-id-62 div.sk-parallel {display: flex;align-items: stretch;justify-content: center;background-color: white;position: relative;}#sk-container-id-62 div.sk-item::before, #sk-container-id-62 div.sk-parallel-item::before {content: \"\";position: absolute;border-left: 1px solid gray;box-sizing: border-box;top: 0;bottom: 0;left: 50%;z-index: -1;}#sk-container-id-62 div.sk-parallel-item {display: flex;flex-direction: column;z-index: 1;position: relative;background-color: white;}#sk-container-id-62 div.sk-parallel-item:first-child::after {align-self: flex-end;width: 50%;}#sk-container-id-62 div.sk-parallel-item:last-child::after {align-self: flex-start;width: 50%;}#sk-container-id-62 div.sk-parallel-item:only-child::after {width: 0;}#sk-container-id-62 div.sk-dashed-wrapped {border: 1px dashed gray;margin: 0 0.4em 0.5em 0.4em;box-sizing: border-box;padding-bottom: 0.4em;background-color: white;}#sk-container-id-62 div.sk-label label {font-family: monospace;font-weight: bold;display: inline-block;line-height: 1.2em;}#sk-container-id-62 div.sk-label-container {text-align: center;}#sk-container-id-62 div.sk-container {/* jupyter's `normalize.less` sets `[hidden] { display: none; }` but bootstrap.min.css set `[hidden] { display: none !important; }` so we also need the `!important` here to be able to override the default hidden behavior on the sphinx rendered scikit-learn.org. See: https://github.com/scikit-learn/scikit-learn/issues/21755 */display: inline-block !important;position: relative;}#sk-container-id-62 div.sk-text-repr-fallback {display: none;}</style><div id=\"sk-container-id-62\" class=\"sk-top-container\"><div class=\"sk-text-repr-fallback\"><pre>Pipeline(steps=[(&#x27;transformer&#x27;,\n",
              "                 ColumnTransformer(transformers=[(&#x27;ohe&#x27;,\n",
              "                                                  OneHotEncoder(handle_unknown=&#x27;ignore&#x27;),\n",
              "                                                  [&#x27;Month&#x27;, &#x27;VisitorType&#x27;]),\n",
              "                                                 (&#x27;scaling&#x27;, MinMaxScaler(),\n",
              "                                                  [&#x27;Administrative_Duration&#x27;,\n",
              "                                                   &#x27;Informational_Duration&#x27;,\n",
              "                                                   &#x27;ProductRelated_Duration&#x27;,\n",
              "                                                   &#x27;BounceRates&#x27;, &#x27;ExitRates&#x27;,\n",
              "                                                   &#x27;PageValues&#x27;, &#x27;SpecialDay&#x27;,\n",
              "                                                   &#x27;OperatingSystems&#x27;, &#x27;Region&#x27;,\n",
              "                                                   &#x27;TrafficType&#x27;])])),\n",
              "                (&#x27;model&#x27;,\n",
              "                 RandomForestClassifier(class_weight={0: 0.2, 1: 1},\n",
              "                                        criterion=&#x27;entropy&#x27;, max_depth=4,\n",
              "                                        random_state=12345))])</pre><b>In a Jupyter environment, please rerun this cell to show the HTML representation or trust the notebook. <br />On GitHub, the HTML representation is unable to render, please try loading this page with nbviewer.org.</b></div><div class=\"sk-container\" hidden><div class=\"sk-item sk-dashed-wrapped\"><div class=\"sk-label-container\"><div class=\"sk-label sk-toggleable\"><input class=\"sk-toggleable__control sk-hidden--visually\" id=\"sk-estimator-id-219\" type=\"checkbox\" ><label for=\"sk-estimator-id-219\" class=\"sk-toggleable__label sk-toggleable__label-arrow\">Pipeline</label><div class=\"sk-toggleable__content\"><pre>Pipeline(steps=[(&#x27;transformer&#x27;,\n",
              "                 ColumnTransformer(transformers=[(&#x27;ohe&#x27;,\n",
              "                                                  OneHotEncoder(handle_unknown=&#x27;ignore&#x27;),\n",
              "                                                  [&#x27;Month&#x27;, &#x27;VisitorType&#x27;]),\n",
              "                                                 (&#x27;scaling&#x27;, MinMaxScaler(),\n",
              "                                                  [&#x27;Administrative_Duration&#x27;,\n",
              "                                                   &#x27;Informational_Duration&#x27;,\n",
              "                                                   &#x27;ProductRelated_Duration&#x27;,\n",
              "                                                   &#x27;BounceRates&#x27;, &#x27;ExitRates&#x27;,\n",
              "                                                   &#x27;PageValues&#x27;, &#x27;SpecialDay&#x27;,\n",
              "                                                   &#x27;OperatingSystems&#x27;, &#x27;Region&#x27;,\n",
              "                                                   &#x27;TrafficType&#x27;])])),\n",
              "                (&#x27;model&#x27;,\n",
              "                 RandomForestClassifier(class_weight={0: 0.2, 1: 1},\n",
              "                                        criterion=&#x27;entropy&#x27;, max_depth=4,\n",
              "                                        random_state=12345))])</pre></div></div></div><div class=\"sk-serial\"><div class=\"sk-item sk-dashed-wrapped\"><div class=\"sk-label-container\"><div class=\"sk-label sk-toggleable\"><input class=\"sk-toggleable__control sk-hidden--visually\" id=\"sk-estimator-id-220\" type=\"checkbox\" ><label for=\"sk-estimator-id-220\" class=\"sk-toggleable__label sk-toggleable__label-arrow\">transformer: ColumnTransformer</label><div class=\"sk-toggleable__content\"><pre>ColumnTransformer(transformers=[(&#x27;ohe&#x27;, OneHotEncoder(handle_unknown=&#x27;ignore&#x27;),\n",
              "                                 [&#x27;Month&#x27;, &#x27;VisitorType&#x27;]),\n",
              "                                (&#x27;scaling&#x27;, MinMaxScaler(),\n",
              "                                 [&#x27;Administrative_Duration&#x27;,\n",
              "                                  &#x27;Informational_Duration&#x27;,\n",
              "                                  &#x27;ProductRelated_Duration&#x27;, &#x27;BounceRates&#x27;,\n",
              "                                  &#x27;ExitRates&#x27;, &#x27;PageValues&#x27;, &#x27;SpecialDay&#x27;,\n",
              "                                  &#x27;OperatingSystems&#x27;, &#x27;Region&#x27;,\n",
              "                                  &#x27;TrafficType&#x27;])])</pre></div></div></div><div class=\"sk-parallel\"><div class=\"sk-parallel-item\"><div class=\"sk-item\"><div class=\"sk-label-container\"><div class=\"sk-label sk-toggleable\"><input class=\"sk-toggleable__control sk-hidden--visually\" id=\"sk-estimator-id-221\" type=\"checkbox\" ><label for=\"sk-estimator-id-221\" class=\"sk-toggleable__label sk-toggleable__label-arrow\">ohe</label><div class=\"sk-toggleable__content\"><pre>[&#x27;Month&#x27;, &#x27;VisitorType&#x27;]</pre></div></div></div><div class=\"sk-serial\"><div class=\"sk-item\"><div class=\"sk-estimator sk-toggleable\"><input class=\"sk-toggleable__control sk-hidden--visually\" id=\"sk-estimator-id-222\" type=\"checkbox\" ><label for=\"sk-estimator-id-222\" class=\"sk-toggleable__label sk-toggleable__label-arrow\">OneHotEncoder</label><div class=\"sk-toggleable__content\"><pre>OneHotEncoder(handle_unknown=&#x27;ignore&#x27;)</pre></div></div></div></div></div></div><div class=\"sk-parallel-item\"><div class=\"sk-item\"><div class=\"sk-label-container\"><div class=\"sk-label sk-toggleable\"><input class=\"sk-toggleable__control sk-hidden--visually\" id=\"sk-estimator-id-223\" type=\"checkbox\" ><label for=\"sk-estimator-id-223\" class=\"sk-toggleable__label sk-toggleable__label-arrow\">scaling</label><div class=\"sk-toggleable__content\"><pre>[&#x27;Administrative_Duration&#x27;, &#x27;Informational_Duration&#x27;, &#x27;ProductRelated_Duration&#x27;, &#x27;BounceRates&#x27;, &#x27;ExitRates&#x27;, &#x27;PageValues&#x27;, &#x27;SpecialDay&#x27;, &#x27;OperatingSystems&#x27;, &#x27;Region&#x27;, &#x27;TrafficType&#x27;]</pre></div></div></div><div class=\"sk-serial\"><div class=\"sk-item\"><div class=\"sk-estimator sk-toggleable\"><input class=\"sk-toggleable__control sk-hidden--visually\" id=\"sk-estimator-id-224\" type=\"checkbox\" ><label for=\"sk-estimator-id-224\" class=\"sk-toggleable__label sk-toggleable__label-arrow\">MinMaxScaler</label><div class=\"sk-toggleable__content\"><pre>MinMaxScaler()</pre></div></div></div></div></div></div></div></div><div class=\"sk-item\"><div class=\"sk-estimator sk-toggleable\"><input class=\"sk-toggleable__control sk-hidden--visually\" id=\"sk-estimator-id-225\" type=\"checkbox\" ><label for=\"sk-estimator-id-225\" class=\"sk-toggleable__label sk-toggleable__label-arrow\">RandomForestClassifier</label><div class=\"sk-toggleable__content\"><pre>RandomForestClassifier(class_weight={0: 0.2, 1: 1}, criterion=&#x27;entropy&#x27;,\n",
              "                       max_depth=4, random_state=12345)</pre></div></div></div></div></div></div></div>"
            ],
            "text/plain": [
              "Pipeline(steps=[('transformer',\n",
              "                 ColumnTransformer(transformers=[('ohe',\n",
              "                                                  OneHotEncoder(handle_unknown='ignore'),\n",
              "                                                  ['Month', 'VisitorType']),\n",
              "                                                 ('scaling', MinMaxScaler(),\n",
              "                                                  ['Administrative_Duration',\n",
              "                                                   'Informational_Duration',\n",
              "                                                   'ProductRelated_Duration',\n",
              "                                                   'BounceRates', 'ExitRates',\n",
              "                                                   'PageValues', 'SpecialDay',\n",
              "                                                   'OperatingSystems', 'Region',\n",
              "                                                   'TrafficType'])])),\n",
              "                ('model',\n",
              "                 RandomForestClassifier(class_weight={0: 0.2, 1: 1},\n",
              "                                        criterion='entropy', max_depth=4,\n",
              "                                        random_state=12345))])"
            ]
          },
          "execution_count": 202,
          "metadata": {},
          "output_type": "execute_result"
        }
      ],
      "source": [
        "gs.best_estimator_"
      ]
    },
    {
      "cell_type": "code",
      "execution_count": 203,
      "metadata": {},
      "outputs": [],
      "source": [
        "pred_gs = gs.predict(X_test_full)"
      ]
    },
    {
      "cell_type": "code",
      "execution_count": 204,
      "metadata": {},
      "outputs": [
        {
          "name": "stdout",
          "output_type": "stream",
          "text": [
            "0.8815896188158961\n",
            "[[1841  221]\n",
            " [  71  333]]\n"
          ]
        }
      ],
      "source": [
        "print(accuracy_score(y_test, pred_gs))\n",
        "print(confusion_matrix(y_test, pred_gs))"
      ]
    },
    {
      "cell_type": "markdown",
      "metadata": {},
      "source": [
        "# Интерпретация признаков"
      ]
    },
    {
      "cell_type": "code",
      "execution_count": 205,
      "metadata": {},
      "outputs": [
        {
          "data": {
            "text/plain": [
              "numpy.ndarray"
            ]
          },
          "execution_count": 205,
          "metadata": {},
          "output_type": "execute_result"
        }
      ],
      "source": [
        "type(X_test_transformed)"
      ]
    },
    {
      "cell_type": "code",
      "execution_count": 206,
      "metadata": {},
      "outputs": [],
      "source": [
        "# для использования ClassifierExplainer приведем X_test_transformed к типу dataframe\n",
        "new_features = list(ct.named_transformers_['ohe'].get_feature_names_out())\n",
        "new_features.extend(numeric_features)\n",
        "\n",
        "#new_features"
      ]
    },
    {
      "cell_type": "code",
      "execution_count": 207,
      "metadata": {},
      "outputs": [
        {
          "data": {
            "text/html": [
              "<div>\n",
              "<style scoped>\n",
              "    .dataframe tbody tr th:only-of-type {\n",
              "        vertical-align: middle;\n",
              "    }\n",
              "\n",
              "    .dataframe tbody tr th {\n",
              "        vertical-align: top;\n",
              "    }\n",
              "\n",
              "    .dataframe thead th {\n",
              "        text-align: right;\n",
              "    }\n",
              "</style>\n",
              "<table border=\"1\" class=\"dataframe\">\n",
              "  <thead>\n",
              "    <tr style=\"text-align: right;\">\n",
              "      <th></th>\n",
              "      <th>Month_Aug</th>\n",
              "      <th>Month_Dec</th>\n",
              "      <th>Month_Feb</th>\n",
              "      <th>Month_Jul</th>\n",
              "      <th>Month_June</th>\n",
              "      <th>Month_Mar</th>\n",
              "      <th>Month_May</th>\n",
              "      <th>Month_Nov</th>\n",
              "      <th>Month_Oct</th>\n",
              "      <th>Month_Sep</th>\n",
              "      <th>...</th>\n",
              "      <th>Administrative_Duration</th>\n",
              "      <th>Informational_Duration</th>\n",
              "      <th>ProductRelated_Duration</th>\n",
              "      <th>BounceRates</th>\n",
              "      <th>ExitRates</th>\n",
              "      <th>PageValues</th>\n",
              "      <th>SpecialDay</th>\n",
              "      <th>OperatingSystems</th>\n",
              "      <th>Region</th>\n",
              "      <th>TrafficType</th>\n",
              "    </tr>\n",
              "  </thead>\n",
              "  <tbody>\n",
              "    <tr>\n",
              "      <th>0</th>\n",
              "      <td>0.0</td>\n",
              "      <td>0.0</td>\n",
              "      <td>0.0</td>\n",
              "      <td>0.0</td>\n",
              "      <td>0.0</td>\n",
              "      <td>0.0</td>\n",
              "      <td>0.0</td>\n",
              "      <td>0.0</td>\n",
              "      <td>1.0</td>\n",
              "      <td>0.0</td>\n",
              "      <td>...</td>\n",
              "      <td>0.104943</td>\n",
              "      <td>0.0</td>\n",
              "      <td>0.025577</td>\n",
              "      <td>0.026667</td>\n",
              "      <td>0.038667</td>\n",
              "      <td>0.000000</td>\n",
              "      <td>0.0</td>\n",
              "      <td>0.142857</td>\n",
              "      <td>0.375</td>\n",
              "      <td>0.157895</td>\n",
              "    </tr>\n",
              "    <tr>\n",
              "      <th>1</th>\n",
              "      <td>0.0</td>\n",
              "      <td>0.0</td>\n",
              "      <td>0.0</td>\n",
              "      <td>0.0</td>\n",
              "      <td>0.0</td>\n",
              "      <td>0.0</td>\n",
              "      <td>0.0</td>\n",
              "      <td>1.0</td>\n",
              "      <td>0.0</td>\n",
              "      <td>0.0</td>\n",
              "      <td>...</td>\n",
              "      <td>0.000000</td>\n",
              "      <td>0.0</td>\n",
              "      <td>0.000000</td>\n",
              "      <td>1.000000</td>\n",
              "      <td>1.000000</td>\n",
              "      <td>0.000000</td>\n",
              "      <td>0.0</td>\n",
              "      <td>0.142857</td>\n",
              "      <td>1.000</td>\n",
              "      <td>0.631579</td>\n",
              "    </tr>\n",
              "    <tr>\n",
              "      <th>2</th>\n",
              "      <td>0.0</td>\n",
              "      <td>0.0</td>\n",
              "      <td>0.0</td>\n",
              "      <td>0.0</td>\n",
              "      <td>0.0</td>\n",
              "      <td>0.0</td>\n",
              "      <td>1.0</td>\n",
              "      <td>0.0</td>\n",
              "      <td>0.0</td>\n",
              "      <td>0.0</td>\n",
              "      <td>...</td>\n",
              "      <td>0.000000</td>\n",
              "      <td>0.0</td>\n",
              "      <td>0.013387</td>\n",
              "      <td>0.000000</td>\n",
              "      <td>0.142857</td>\n",
              "      <td>0.123454</td>\n",
              "      <td>0.6</td>\n",
              "      <td>0.142857</td>\n",
              "      <td>1.000</td>\n",
              "      <td>0.210526</td>\n",
              "    </tr>\n",
              "    <tr>\n",
              "      <th>3</th>\n",
              "      <td>0.0</td>\n",
              "      <td>0.0</td>\n",
              "      <td>0.0</td>\n",
              "      <td>0.0</td>\n",
              "      <td>0.0</td>\n",
              "      <td>0.0</td>\n",
              "      <td>1.0</td>\n",
              "      <td>0.0</td>\n",
              "      <td>0.0</td>\n",
              "      <td>0.0</td>\n",
              "      <td>...</td>\n",
              "      <td>0.000000</td>\n",
              "      <td>0.0</td>\n",
              "      <td>0.036698</td>\n",
              "      <td>0.140845</td>\n",
              "      <td>0.188967</td>\n",
              "      <td>0.000000</td>\n",
              "      <td>0.8</td>\n",
              "      <td>0.285714</td>\n",
              "      <td>0.000</td>\n",
              "      <td>0.631579</td>\n",
              "    </tr>\n",
              "    <tr>\n",
              "      <th>4</th>\n",
              "      <td>0.0</td>\n",
              "      <td>1.0</td>\n",
              "      <td>0.0</td>\n",
              "      <td>0.0</td>\n",
              "      <td>0.0</td>\n",
              "      <td>0.0</td>\n",
              "      <td>0.0</td>\n",
              "      <td>0.0</td>\n",
              "      <td>0.0</td>\n",
              "      <td>0.0</td>\n",
              "      <td>...</td>\n",
              "      <td>0.022214</td>\n",
              "      <td>0.0</td>\n",
              "      <td>0.025966</td>\n",
              "      <td>0.000000</td>\n",
              "      <td>0.031250</td>\n",
              "      <td>0.000000</td>\n",
              "      <td>0.0</td>\n",
              "      <td>0.142857</td>\n",
              "      <td>0.125</td>\n",
              "      <td>0.473684</td>\n",
              "    </tr>\n",
              "  </tbody>\n",
              "</table>\n",
              "<p>5 rows × 23 columns</p>\n",
              "</div>"
            ],
            "text/plain": [
              "   Month_Aug  Month_Dec  Month_Feb  Month_Jul  Month_June  Month_Mar  \\\n",
              "0        0.0        0.0        0.0        0.0         0.0        0.0   \n",
              "1        0.0        0.0        0.0        0.0         0.0        0.0   \n",
              "2        0.0        0.0        0.0        0.0         0.0        0.0   \n",
              "3        0.0        0.0        0.0        0.0         0.0        0.0   \n",
              "4        0.0        1.0        0.0        0.0         0.0        0.0   \n",
              "\n",
              "   Month_May  Month_Nov  Month_Oct  Month_Sep  ...  Administrative_Duration  \\\n",
              "0        0.0        0.0        1.0        0.0  ...                 0.104943   \n",
              "1        0.0        1.0        0.0        0.0  ...                 0.000000   \n",
              "2        1.0        0.0        0.0        0.0  ...                 0.000000   \n",
              "3        1.0        0.0        0.0        0.0  ...                 0.000000   \n",
              "4        0.0        0.0        0.0        0.0  ...                 0.022214   \n",
              "\n",
              "   Informational_Duration  ProductRelated_Duration  BounceRates  ExitRates  \\\n",
              "0                     0.0                 0.025577     0.026667   0.038667   \n",
              "1                     0.0                 0.000000     1.000000   1.000000   \n",
              "2                     0.0                 0.013387     0.000000   0.142857   \n",
              "3                     0.0                 0.036698     0.140845   0.188967   \n",
              "4                     0.0                 0.025966     0.000000   0.031250   \n",
              "\n",
              "   PageValues  SpecialDay  OperatingSystems  Region  TrafficType  \n",
              "0    0.000000         0.0          0.142857   0.375     0.157895  \n",
              "1    0.000000         0.0          0.142857   1.000     0.631579  \n",
              "2    0.123454         0.6          0.142857   1.000     0.210526  \n",
              "3    0.000000         0.8          0.285714   0.000     0.631579  \n",
              "4    0.000000         0.0          0.142857   0.125     0.473684  \n",
              "\n",
              "[5 rows x 23 columns]"
            ]
          },
          "execution_count": 207,
          "metadata": {},
          "output_type": "execute_result"
        }
      ],
      "source": [
        "X_train_transformed = pd.DataFrame(X_train_transformed, columns=new_features)\n",
        "X_test_transformed = pd.DataFrame(X_test_transformed, columns=new_features)\n",
        "\n",
        "X_train_transformed.head()"
      ]
    },
    {
      "cell_type": "markdown",
      "metadata": {},
      "source": [
        "### Explainer Dashboard"
      ]
    },
    {
      "cell_type": "code",
      "execution_count": 208,
      "metadata": {
        "id": "q-EDB8toNYDD"
      },
      "outputs": [
        {
          "name": "stdout",
          "output_type": "stream",
          "text": [
            "splitting pipeline...\n",
            "Warning: Failed to extract a data transformer with column names and final model from the Pipeline. So setting shap='kernel' to use the (slower and approximate) model-agnostic shap.KernelExplainer instead!\n",
            "WARNING: For shap='kernel', shap interaction values can unfortunately not be calculated!\n",
            "Detected RandomForestClassifier model: Changing class type to RandomForestClassifierExplainer...\n",
            "Note: shap values for shap='kernel' normally get calculated against X_background, but paramater X_background=None, so setting X_background=shap.sample(X, 50)...\n",
            "Generating self.shap_explainer = shap.KernelExplainer(model, X, link='identity')\n"
          ]
        },
        {
          "name": "stderr",
          "output_type": "stream",
          "text": [
            "C:\\Users\\HP\\AppData\\Local\\Packages\\PythonSoftwareFoundation.Python.3.11_qbz5n2kfra8p0\\LocalCache\\local-packages\\Python311\\site-packages\\sklearn\\base.py:457: UserWarning:\n",
            "\n",
            "X has feature names, but RandomForestClassifier was fitted without feature names\n",
            "\n"
          ]
        }
      ],
      "source": [
        "explainer = ClassifierExplainer(gs.best_estimator_, X_test_transformed, y_test)"
      ]
    },
    {
      "cell_type": "code",
      "execution_count": null,
      "metadata": {
        "id": "xkMj6h393YIx"
      },
      "outputs": [],
      "source": [
        "db = ExplainerDashboard(explainer)"
      ]
    },
    {
      "cell_type": "code",
      "execution_count": null,
      "metadata": {
        "id": "vIMa0uMTz-MQ"
      },
      "outputs": [],
      "source": [
        "db.run()"
      ]
    },
    {
      "cell_type": "markdown",
      "metadata": {},
      "source": [
        "## Предварительный вывод\n",
        "- модель показывает метрику precision (точность правильных определений нужного класса, тех кто купит)  0.601, recall (полнота правильных ответов) 0.824 \n",
        "- самыми важными признаками через SNAP values модель рассчитала PageValues,  ExitRates, BounceRates на четвертом месте стоит Mounth_Nov(при однофакторном анализе заметили что в ноябре были самые большие продажи) на последнем месте VisitorTypeOther, Month_Aug, Month_Jul. \n",
        "- для способа Permutation Importance самыми важными определены признаки PageValues,MonthNov, ExitRates на четвертом месте Mounth_May(самое большое количество посещений в эти дни). На последнем месте ProductRelated_Duration(связь с целевой переменной похожа на квадратичную убывающую функцию), BounceRates, Month_June  \n",
        "\n"
      ]
    },
    {
      "cell_type": "markdown",
      "metadata": {},
      "source": []
    }
  ],
  "metadata": {
    "colab": {
      "provenance": [],
      "toc_visible": true
    },
    "kernelspec": {
      "display_name": "Python 3",
      "name": "python3"
    },
    "language_info": {
      "codemirror_mode": {
        "name": "ipython",
        "version": 3
      },
      "file_extension": ".py",
      "mimetype": "text/x-python",
      "name": "python",
      "nbconvert_exporter": "python",
      "pygments_lexer": "ipython3",
      "version": "3.11.5"
    }
  },
  "nbformat": 4,
  "nbformat_minor": 0
}
